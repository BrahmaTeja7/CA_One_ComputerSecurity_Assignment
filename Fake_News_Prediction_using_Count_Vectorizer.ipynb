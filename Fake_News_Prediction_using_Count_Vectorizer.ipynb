{
  "nbformat": 4,
  "nbformat_minor": 0,
  "metadata": {
    "colab": {
      "provenance": [],
      "authorship_tag": "ABX9TyN130DV43jF1hpD6NDKjS/p",
      "include_colab_link": true
    },
    "kernelspec": {
      "name": "python3",
      "display_name": "Python 3"
    },
    "language_info": {
      "name": "python"
    }
  },
  "cells": [
    {
      "cell_type": "markdown",
      "metadata": {
        "id": "view-in-github",
        "colab_type": "text"
      },
      "source": [
        "<a href=\"https://colab.research.google.com/github/BrahmaTeja7/CA_One_ComputerSecurity_Assignment/blob/main/Fake_News_Prediction_using_Count_Vectorizer.ipynb\" target=\"_parent\"><img src=\"https://colab.research.google.com/assets/colab-badge.svg\" alt=\"Open In Colab\"/></a>"
      ]
    },
    {
      "cell_type": "markdown",
      "source": [
        "# **Importing Necessary Libraries for finding the accuracy of the selected Machine learning models in predicting the fake news.**"
      ],
      "metadata": {
        "id": "frK7ssrIVBQC"
      }
    },
    {
      "cell_type": "code",
      "execution_count": null,
      "metadata": {
        "colab": {
          "base_uri": "https://localhost:8080/"
        },
        "id": "6jB4zaaFQzyw",
        "outputId": "8c240ddf-2fb7-4ddc-d0ca-7deb273d9621"
      },
      "outputs": [
        {
          "output_type": "stream",
          "name": "stderr",
          "text": [
            "[nltk_data] Downloading package stopwords to /root/nltk_data...\n",
            "[nltk_data]   Package stopwords is already up-to-date!\n",
            "[nltk_data] Downloading package punkt to /root/nltk_data...\n",
            "[nltk_data]   Package punkt is already up-to-date!\n"
          ]
        }
      ],
      "source": [
        "import numpy as np\n",
        "import pandas as pd\n",
        "import string\n",
        "import nltk\n",
        "nltk.download('stopwords')\n",
        "from nltk.corpus import stopwords\n",
        "import re\n",
        "from nltk.stem.porter import PorterStemmer\n",
        "from nltk.tokenize import word_tokenize\n",
        "nltk.download('punkt')\n",
        "from sklearn.feature_extraction.text import CountVectorizer, TfidfVectorizer\n",
        "from sklearn.model_selection import train_test_split, KFold, StratifiedKFold, RandomizedSearchCV, GridSearchCV, cross_val_score\n",
        "from sklearn.metrics import classification_report, accuracy_score, confusion_matrix,f1_score, precision_score\n",
        "from sklearn import metrics\n",
        "from sklearn.svm import SVC\n",
        "from sklearn.naive_bayes import MultinomialNB\n",
        "import xgboost as xgb\n",
        "from scipy.stats import uniform, randint,expon"
      ]
    },
    {
      "cell_type": "markdown",
      "source": [
        "# **Loading the Dataset using Pandas Library**"
      ],
      "metadata": {
        "id": "qRrXCtCnVWQG"
      }
    },
    {
      "cell_type": "code",
      "source": [
        "dataset = pd.read_csv('/content/Fake&True_News.csv')"
      ],
      "metadata": {
        "id": "qMmxWObFUcvk"
      },
      "execution_count": null,
      "outputs": []
    },
    {
      "cell_type": "markdown",
      "source": [
        "# **Preliminary Checks**"
      ],
      "metadata": {
        "id": "OupBfoJVVYhn"
      }
    },
    {
      "cell_type": "code",
      "source": [
        "dataset.shape"
      ],
      "metadata": {
        "colab": {
          "base_uri": "https://localhost:8080/"
        },
        "id": "QxmauoM7UeyV",
        "outputId": "7b1ada92-2561-45fa-d03a-3ee4cd704ce3"
      },
      "execution_count": null,
      "outputs": [
        {
          "output_type": "execute_result",
          "data": {
            "text/plain": [
              "(44867, 5)"
            ]
          },
          "metadata": {},
          "execution_count": 3
        }
      ]
    },
    {
      "cell_type": "markdown",
      "source": [
        "### **Shuffling the dataset row set records**"
      ],
      "metadata": {
        "id": "joRjt250VqDT"
      }
    },
    {
      "cell_type": "code",
      "source": [
        "shuffled_dataset = dataset.sample(frac=1.0)\n",
        "print(shuffled_dataset)"
      ],
      "metadata": {
        "colab": {
          "base_uri": "https://localhost:8080/"
        },
        "id": "WPQZhEl3Ug3F",
        "outputId": "08b5d8b6-bdda-4b92-f7a0-d94a28b2d1d5"
      },
      "execution_count": null,
      "outputs": [
        {
          "output_type": "stream",
          "name": "stdout",
          "text": [
            "                                                   title  \\\n",
            "10715  NEW NORMAL? MASSIVE MUSIC FESTIVAL In Angela M...   \n",
            "17469  “ENTITLED” DEM REP. SHEILA JACKSON LEE Has Bee...   \n",
            "29519  Trump health nominee says he does not back Med...   \n",
            "20997  LILY WHITE MERYL STREEP Explains Why They Don’...   \n",
            "19700  CROOKED HARRY REID Threatens FBI Director Jame...   \n",
            "...                                                  ...   \n",
            "25452  Gorka, a Trump adviser and Bannon ally, is out...   \n",
            "28968  Ethics review sought after Trump adviser touts...   \n",
            "36330  Russian ex-minister Ulyukayev: I am victim of ...   \n",
            "7153    Maine GOP Governor Holds State Senate Hostage...   \n",
            "39164  Belgian prosecutor says will study Puigdemont ...   \n",
            "\n",
            "                                                    text       subject  \\\n",
            "10715  In 2016, 2.14 million people moved to Germany ...      politics   \n",
            "17469  Jean-Marie Simon, a passenger on a United Airl...     left-news   \n",
            "29519  (Reuters) - President Donald Trump’s nominee t...  politicsNews   \n",
            "20997  There must be an equal number of victims as th...     left-news   \n",
            "19700  Scumbag Senator Harry Reid (D-NV) lays bare ho...     left-news   \n",
            "...                                                  ...           ...   \n",
            "25452  WASHINGTON (Reuters) - White House adviser Seb...  politicsNews   \n",
            "28968  WASHINGTON (Reuters) - (This February 9 story ...  politicsNews   \n",
            "36330  MOSCOW (Reuters) - Former Russian economy mini...     worldnews   \n",
            "7153   Paul Lepage, the Tea Party disaster that happe...          News   \n",
            "39164  BRUSSELS (Reuters) - Belgian authorities have ...     worldnews   \n",
            "\n",
            "            date  marker  \n",
            "10715  02-Jun-17   False  \n",
            "17469  26-Dec-17   False  \n",
            "29519  24-Jan-17    True  \n",
            "20997  11-Feb-16   False  \n",
            "19700  30-Oct-16   False  \n",
            "...          ...     ...  \n",
            "25452  26-Aug-17    True  \n",
            "28968  09-Feb-17    True  \n",
            "36330  07-Dec-17    True  \n",
            "7153   01-Apr-16   False  \n",
            "39164  03-Nov-17    True  \n",
            "\n",
            "[44867 rows x 5 columns]\n"
          ]
        }
      ]
    },
    {
      "cell_type": "markdown",
      "source": [
        "### **Creating a new column \"label\" to convert the values of True or False to 0 & 1.**"
      ],
      "metadata": {
        "id": "kLVVFw7-V0OR"
      }
    },
    {
      "cell_type": "code",
      "source": [
        "shuffled_dataset['label'] = np.where(shuffled_dataset['marker'] == True, 0, 1)\n",
        "print(shuffled_dataset)"
      ],
      "metadata": {
        "colab": {
          "base_uri": "https://localhost:8080/"
        },
        "id": "iADB9lv4Uj0u",
        "outputId": "eb230adc-7c5f-4305-b3b2-3a68b519b681"
      },
      "execution_count": null,
      "outputs": [
        {
          "output_type": "stream",
          "name": "stdout",
          "text": [
            "                                                   title  \\\n",
            "10715  NEW NORMAL? MASSIVE MUSIC FESTIVAL In Angela M...   \n",
            "17469  “ENTITLED” DEM REP. SHEILA JACKSON LEE Has Bee...   \n",
            "29519  Trump health nominee says he does not back Med...   \n",
            "20997  LILY WHITE MERYL STREEP Explains Why They Don’...   \n",
            "19700  CROOKED HARRY REID Threatens FBI Director Jame...   \n",
            "...                                                  ...   \n",
            "25452  Gorka, a Trump adviser and Bannon ally, is out...   \n",
            "28968  Ethics review sought after Trump adviser touts...   \n",
            "36330  Russian ex-minister Ulyukayev: I am victim of ...   \n",
            "7153    Maine GOP Governor Holds State Senate Hostage...   \n",
            "39164  Belgian prosecutor says will study Puigdemont ...   \n",
            "\n",
            "                                                    text       subject  \\\n",
            "10715  In 2016, 2.14 million people moved to Germany ...      politics   \n",
            "17469  Jean-Marie Simon, a passenger on a United Airl...     left-news   \n",
            "29519  (Reuters) - President Donald Trump’s nominee t...  politicsNews   \n",
            "20997  There must be an equal number of victims as th...     left-news   \n",
            "19700  Scumbag Senator Harry Reid (D-NV) lays bare ho...     left-news   \n",
            "...                                                  ...           ...   \n",
            "25452  WASHINGTON (Reuters) - White House adviser Seb...  politicsNews   \n",
            "28968  WASHINGTON (Reuters) - (This February 9 story ...  politicsNews   \n",
            "36330  MOSCOW (Reuters) - Former Russian economy mini...     worldnews   \n",
            "7153   Paul Lepage, the Tea Party disaster that happe...          News   \n",
            "39164  BRUSSELS (Reuters) - Belgian authorities have ...     worldnews   \n",
            "\n",
            "            date  marker  label  \n",
            "10715  02-Jun-17   False      1  \n",
            "17469  26-Dec-17   False      1  \n",
            "29519  24-Jan-17    True      0  \n",
            "20997  11-Feb-16   False      1  \n",
            "19700  30-Oct-16   False      1  \n",
            "...          ...     ...    ...  \n",
            "25452  26-Aug-17    True      0  \n",
            "28968  09-Feb-17    True      0  \n",
            "36330  07-Dec-17    True      0  \n",
            "7153   01-Apr-16   False      1  \n",
            "39164  03-Nov-17    True      0  \n",
            "\n",
            "[44867 rows x 6 columns]\n"
          ]
        }
      ]
    },
    {
      "cell_type": "markdown",
      "source": [
        "**Converting the text to lowercase**"
      ],
      "metadata": {
        "id": "Ll82Cjz-WwRW"
      }
    },
    {
      "cell_type": "code",
      "source": [
        "shuffled_dataset['processing_text'] = shuffled_dataset['text'].str.lower()\n",
        "print(shuffled_dataset)"
      ],
      "metadata": {
        "colab": {
          "base_uri": "https://localhost:8080/"
        },
        "id": "cHjQGFvwUmOh",
        "outputId": "773c3112-09a1-4e59-d1c2-cbce45ed0659"
      },
      "execution_count": null,
      "outputs": [
        {
          "output_type": "stream",
          "name": "stdout",
          "text": [
            "                                                   title  \\\n",
            "10715  NEW NORMAL? MASSIVE MUSIC FESTIVAL In Angela M...   \n",
            "17469  “ENTITLED” DEM REP. SHEILA JACKSON LEE Has Bee...   \n",
            "29519  Trump health nominee says he does not back Med...   \n",
            "20997  LILY WHITE MERYL STREEP Explains Why They Don’...   \n",
            "19700  CROOKED HARRY REID Threatens FBI Director Jame...   \n",
            "...                                                  ...   \n",
            "25452  Gorka, a Trump adviser and Bannon ally, is out...   \n",
            "28968  Ethics review sought after Trump adviser touts...   \n",
            "36330  Russian ex-minister Ulyukayev: I am victim of ...   \n",
            "7153    Maine GOP Governor Holds State Senate Hostage...   \n",
            "39164  Belgian prosecutor says will study Puigdemont ...   \n",
            "\n",
            "                                                    text       subject  \\\n",
            "10715  In 2016, 2.14 million people moved to Germany ...      politics   \n",
            "17469  Jean-Marie Simon, a passenger on a United Airl...     left-news   \n",
            "29519  (Reuters) - President Donald Trump’s nominee t...  politicsNews   \n",
            "20997  There must be an equal number of victims as th...     left-news   \n",
            "19700  Scumbag Senator Harry Reid (D-NV) lays bare ho...     left-news   \n",
            "...                                                  ...           ...   \n",
            "25452  WASHINGTON (Reuters) - White House adviser Seb...  politicsNews   \n",
            "28968  WASHINGTON (Reuters) - (This February 9 story ...  politicsNews   \n",
            "36330  MOSCOW (Reuters) - Former Russian economy mini...     worldnews   \n",
            "7153   Paul Lepage, the Tea Party disaster that happe...          News   \n",
            "39164  BRUSSELS (Reuters) - Belgian authorities have ...     worldnews   \n",
            "\n",
            "            date  marker  label  \\\n",
            "10715  02-Jun-17   False      1   \n",
            "17469  26-Dec-17   False      1   \n",
            "29519  24-Jan-17    True      0   \n",
            "20997  11-Feb-16   False      1   \n",
            "19700  30-Oct-16   False      1   \n",
            "...          ...     ...    ...   \n",
            "25452  26-Aug-17    True      0   \n",
            "28968  09-Feb-17    True      0   \n",
            "36330  07-Dec-17    True      0   \n",
            "7153   01-Apr-16   False      1   \n",
            "39164  03-Nov-17    True      0   \n",
            "\n",
            "                                         processing_text  \n",
            "10715  in 2016, 2.14 million people moved to germany ...  \n",
            "17469  jean-marie simon, a passenger on a united airl...  \n",
            "29519  (reuters) - president donald trump’s nominee t...  \n",
            "20997  there must be an equal number of victims as th...  \n",
            "19700  scumbag senator harry reid (d-nv) lays bare ho...  \n",
            "...                                                  ...  \n",
            "25452  washington (reuters) - white house adviser seb...  \n",
            "28968  washington (reuters) - (this february 9 story ...  \n",
            "36330  moscow (reuters) - former russian economy mini...  \n",
            "7153   paul lepage, the tea party disaster that happe...  \n",
            "39164  brussels (reuters) - belgian authorities have ...  \n",
            "\n",
            "[44867 rows x 7 columns]\n"
          ]
        }
      ]
    },
    {
      "cell_type": "markdown",
      "source": [
        "**Removing the Punctuations in the text**"
      ],
      "metadata": {
        "id": "5ks1rrK2W2B-"
      }
    },
    {
      "cell_type": "code",
      "source": [
        "def removing_punctuations(text):\n",
        "  punctuations = string.punctuation\n",
        "  return text.translate(str.maketrans('','',punctuations))"
      ],
      "metadata": {
        "id": "WL33hmUsUpLq"
      },
      "execution_count": null,
      "outputs": []
    },
    {
      "cell_type": "code",
      "source": [
        "shuffled_dataset['processing_text'] = shuffled_dataset['processing_text'].apply(lambda x: removing_punctuations(x))\n",
        "print(shuffled_dataset)"
      ],
      "metadata": {
        "colab": {
          "base_uri": "https://localhost:8080/"
        },
        "id": "FVZ2rEYFUreS",
        "outputId": "1afbadb5-29a9-493d-b6d9-34f75fbb23ee"
      },
      "execution_count": null,
      "outputs": [
        {
          "output_type": "stream",
          "name": "stdout",
          "text": [
            "                                                   title  \\\n",
            "10715  NEW NORMAL? MASSIVE MUSIC FESTIVAL In Angela M...   \n",
            "17469  “ENTITLED” DEM REP. SHEILA JACKSON LEE Has Bee...   \n",
            "29519  Trump health nominee says he does not back Med...   \n",
            "20997  LILY WHITE MERYL STREEP Explains Why They Don’...   \n",
            "19700  CROOKED HARRY REID Threatens FBI Director Jame...   \n",
            "...                                                  ...   \n",
            "25452  Gorka, a Trump adviser and Bannon ally, is out...   \n",
            "28968  Ethics review sought after Trump adviser touts...   \n",
            "36330  Russian ex-minister Ulyukayev: I am victim of ...   \n",
            "7153    Maine GOP Governor Holds State Senate Hostage...   \n",
            "39164  Belgian prosecutor says will study Puigdemont ...   \n",
            "\n",
            "                                                    text       subject  \\\n",
            "10715  In 2016, 2.14 million people moved to Germany ...      politics   \n",
            "17469  Jean-Marie Simon, a passenger on a United Airl...     left-news   \n",
            "29519  (Reuters) - President Donald Trump’s nominee t...  politicsNews   \n",
            "20997  There must be an equal number of victims as th...     left-news   \n",
            "19700  Scumbag Senator Harry Reid (D-NV) lays bare ho...     left-news   \n",
            "...                                                  ...           ...   \n",
            "25452  WASHINGTON (Reuters) - White House adviser Seb...  politicsNews   \n",
            "28968  WASHINGTON (Reuters) - (This February 9 story ...  politicsNews   \n",
            "36330  MOSCOW (Reuters) - Former Russian economy mini...     worldnews   \n",
            "7153   Paul Lepage, the Tea Party disaster that happe...          News   \n",
            "39164  BRUSSELS (Reuters) - Belgian authorities have ...     worldnews   \n",
            "\n",
            "            date  marker  label  \\\n",
            "10715  02-Jun-17   False      1   \n",
            "17469  26-Dec-17   False      1   \n",
            "29519  24-Jan-17    True      0   \n",
            "20997  11-Feb-16   False      1   \n",
            "19700  30-Oct-16   False      1   \n",
            "...          ...     ...    ...   \n",
            "25452  26-Aug-17    True      0   \n",
            "28968  09-Feb-17    True      0   \n",
            "36330  07-Dec-17    True      0   \n",
            "7153   01-Apr-16   False      1   \n",
            "39164  03-Nov-17    True      0   \n",
            "\n",
            "                                         processing_text  \n",
            "10715  in 2016 214 million people moved to germany in...  \n",
            "17469  jeanmarie simon a passenger on a united airlin...  \n",
            "29519  reuters  president donald trump’s nominee to r...  \n",
            "20997  there must be an equal number of victims as th...  \n",
            "19700  scumbag senator harry reid dnv lays bare how d...  \n",
            "...                                                  ...  \n",
            "25452  washington reuters  white house adviser sebast...  \n",
            "28968  washington reuters  this february 9 story has ...  \n",
            "36330  moscow reuters  former russian economy ministe...  \n",
            "7153   paul lepage the tea party disaster that happen...  \n",
            "39164  brussels reuters  belgian authorities have rec...  \n",
            "\n",
            "[44867 rows x 7 columns]\n"
          ]
        }
      ]
    },
    {
      "cell_type": "markdown",
      "source": [
        "**Removing the stopwords in text column**"
      ],
      "metadata": {
        "id": "QfAz2DhrW7BA"
      }
    },
    {
      "cell_type": "code",
      "source": [
        "Stopword = set(stopwords.words('english'))\n",
        "def removing_stopwords(text):\n",
        "  return \" \".join([word for word in text.split() if word not in Stopword])"
      ],
      "metadata": {
        "id": "Zsc0ibTQUuew"
      },
      "execution_count": null,
      "outputs": []
    },
    {
      "cell_type": "code",
      "source": [
        "shuffled_dataset['processing_text'] = shuffled_dataset['processing_text'].apply(lambda x: removing_stopwords(x))\n",
        "print(shuffled_dataset)"
      ],
      "metadata": {
        "colab": {
          "base_uri": "https://localhost:8080/"
        },
        "id": "wnaKD3OfUw1Z",
        "outputId": "7470b483-c527-4ada-823b-02b00d73dd8e"
      },
      "execution_count": null,
      "outputs": [
        {
          "output_type": "stream",
          "name": "stdout",
          "text": [
            "                                                   title  \\\n",
            "10715  NEW NORMAL? MASSIVE MUSIC FESTIVAL In Angela M...   \n",
            "17469  “ENTITLED” DEM REP. SHEILA JACKSON LEE Has Bee...   \n",
            "29519  Trump health nominee says he does not back Med...   \n",
            "20997  LILY WHITE MERYL STREEP Explains Why They Don’...   \n",
            "19700  CROOKED HARRY REID Threatens FBI Director Jame...   \n",
            "...                                                  ...   \n",
            "25452  Gorka, a Trump adviser and Bannon ally, is out...   \n",
            "28968  Ethics review sought after Trump adviser touts...   \n",
            "36330  Russian ex-minister Ulyukayev: I am victim of ...   \n",
            "7153    Maine GOP Governor Holds State Senate Hostage...   \n",
            "39164  Belgian prosecutor says will study Puigdemont ...   \n",
            "\n",
            "                                                    text       subject  \\\n",
            "10715  In 2016, 2.14 million people moved to Germany ...      politics   \n",
            "17469  Jean-Marie Simon, a passenger on a United Airl...     left-news   \n",
            "29519  (Reuters) - President Donald Trump’s nominee t...  politicsNews   \n",
            "20997  There must be an equal number of victims as th...     left-news   \n",
            "19700  Scumbag Senator Harry Reid (D-NV) lays bare ho...     left-news   \n",
            "...                                                  ...           ...   \n",
            "25452  WASHINGTON (Reuters) - White House adviser Seb...  politicsNews   \n",
            "28968  WASHINGTON (Reuters) - (This February 9 story ...  politicsNews   \n",
            "36330  MOSCOW (Reuters) - Former Russian economy mini...     worldnews   \n",
            "7153   Paul Lepage, the Tea Party disaster that happe...          News   \n",
            "39164  BRUSSELS (Reuters) - Belgian authorities have ...     worldnews   \n",
            "\n",
            "            date  marker  label  \\\n",
            "10715  02-Jun-17   False      1   \n",
            "17469  26-Dec-17   False      1   \n",
            "29519  24-Jan-17    True      0   \n",
            "20997  11-Feb-16   False      1   \n",
            "19700  30-Oct-16   False      1   \n",
            "...          ...     ...    ...   \n",
            "25452  26-Aug-17    True      0   \n",
            "28968  09-Feb-17    True      0   \n",
            "36330  07-Dec-17    True      0   \n",
            "7153   01-Apr-16   False      1   \n",
            "39164  03-Nov-17    True      0   \n",
            "\n",
            "                                         processing_text  \n",
            "10715  2016 214 million people moved germany 2015 46 ...  \n",
            "17469  jeanmarie simon passenger united airlines flig...  \n",
            "29519  reuters president donald trump’s nominee run u...  \n",
            "20997  must equal number victims born naturally privi...  \n",
            "19700  scumbag senator harry reid dnv lays bare democ...  \n",
            "...                                                  ...  \n",
            "25452  washington reuters white house adviser sebasti...  \n",
            "28968  washington reuters february 9 story refiled co...  \n",
            "36330  moscow reuters former russian economy minister...  \n",
            "7153   paul lepage tea party disaster happens technic...  \n",
            "39164  brussels reuters belgian authorities received ...  \n",
            "\n",
            "[44867 rows x 7 columns]\n"
          ]
        }
      ]
    },
    {
      "cell_type": "markdown",
      "source": [
        "**Removing the special Characters, Html tags, Url in text column**"
      ],
      "metadata": {
        "id": "fBNIJ5rTXLgw"
      }
    },
    {
      "cell_type": "code",
      "source": [
        "def remove_chars_url_htmlTags(text):\n",
        "  text = re.sub('[^a-zA-Z0-9]', ' ',text)\n",
        "  text = re.sub('\\s+', ' ',text)\n",
        "  text = re.sub(r'https?://\\S+|www\\.\\S+','',text)\n",
        "  text = re.sub(r'<.*?>','',text)\n",
        "  return text"
      ],
      "metadata": {
        "id": "z9-wsxbjU03y"
      },
      "execution_count": null,
      "outputs": []
    },
    {
      "cell_type": "code",
      "source": [
        "shuffled_dataset['processing_text'] = shuffled_dataset['processing_text'].apply(lambda x: remove_chars_url_htmlTags(x))\n",
        "shuffled_dataset.head()"
      ],
      "metadata": {
        "colab": {
          "base_uri": "https://localhost:8080/",
          "height": 397
        },
        "id": "benApn1cU29X",
        "outputId": "be175764-4ba3-4b8d-b334-7b9189e106cd"
      },
      "execution_count": null,
      "outputs": [
        {
          "output_type": "execute_result",
          "data": {
            "text/plain": [
              "                                                   title  \\\n",
              "41468   Israel strikes Hamas post after Gaza rocket fire   \n",
              "1467    Chris Wallace SCOLDS Fox News Colleagues For ...   \n",
              "19719  DO WOMAN WANT TO ELECT A BULLY Whose Campaign ...   \n",
              "6635    This DA Just Called B.S. On Anti-Trans Republ...   \n",
              "23841  U.S. states gird for fight as Trump targets co...   \n",
              "\n",
              "                                                    text       subject  \\\n",
              "41468  JERUSALEM (Reuters) - The Israeli military sai...     worldnews   \n",
              "1467   The hosts of Fox & Friends just got their asse...          News   \n",
              "19719  As a mother of three young girls, Hillary is t...     left-news   \n",
              "6635   As the GOP s fight to control which bathrooms ...          News   \n",
              "23841  WASHINGTON (Reuters) - Pennsylvania’s Attorney...  politicsNews   \n",
              "\n",
              "            date  marker  label  \\\n",
              "41468  08-Oct-17    True      0   \n",
              "1467   14-May-17   False      1   \n",
              "19719  26-Oct-16   False      1   \n",
              "6635   29-Apr-16   False      1   \n",
              "23841  01-Dec-17    True      0   \n",
              "\n",
              "                                         processing_text  \n",
              "41468  jerusalem reuters israeli military said sunday...  \n",
              "1467   hosts fox friends got asses handed one colleag...  \n",
              "19719  mother three young girls hillary last person w...  \n",
              "6635   gop fight control bathrooms transgender people...  \n",
              "23841  washington reuters pennsylvania s attorney gen...  "
            ],
            "text/html": [
              "\n",
              "  <div id=\"df-ad9c7d24-abc2-4497-b787-0b2949f74de8\" class=\"colab-df-container\">\n",
              "    <div>\n",
              "<style scoped>\n",
              "    .dataframe tbody tr th:only-of-type {\n",
              "        vertical-align: middle;\n",
              "    }\n",
              "\n",
              "    .dataframe tbody tr th {\n",
              "        vertical-align: top;\n",
              "    }\n",
              "\n",
              "    .dataframe thead th {\n",
              "        text-align: right;\n",
              "    }\n",
              "</style>\n",
              "<table border=\"1\" class=\"dataframe\">\n",
              "  <thead>\n",
              "    <tr style=\"text-align: right;\">\n",
              "      <th></th>\n",
              "      <th>title</th>\n",
              "      <th>text</th>\n",
              "      <th>subject</th>\n",
              "      <th>date</th>\n",
              "      <th>marker</th>\n",
              "      <th>label</th>\n",
              "      <th>processing_text</th>\n",
              "    </tr>\n",
              "  </thead>\n",
              "  <tbody>\n",
              "    <tr>\n",
              "      <th>41468</th>\n",
              "      <td>Israel strikes Hamas post after Gaza rocket fire</td>\n",
              "      <td>JERUSALEM (Reuters) - The Israeli military sai...</td>\n",
              "      <td>worldnews</td>\n",
              "      <td>08-Oct-17</td>\n",
              "      <td>True</td>\n",
              "      <td>0</td>\n",
              "      <td>jerusalem reuters israeli military said sunday...</td>\n",
              "    </tr>\n",
              "    <tr>\n",
              "      <th>1467</th>\n",
              "      <td>Chris Wallace SCOLDS Fox News Colleagues For ...</td>\n",
              "      <td>The hosts of Fox &amp; Friends just got their asse...</td>\n",
              "      <td>News</td>\n",
              "      <td>14-May-17</td>\n",
              "      <td>False</td>\n",
              "      <td>1</td>\n",
              "      <td>hosts fox friends got asses handed one colleag...</td>\n",
              "    </tr>\n",
              "    <tr>\n",
              "      <th>19719</th>\n",
              "      <td>DO WOMAN WANT TO ELECT A BULLY Whose Campaign ...</td>\n",
              "      <td>As a mother of three young girls, Hillary is t...</td>\n",
              "      <td>left-news</td>\n",
              "      <td>26-Oct-16</td>\n",
              "      <td>False</td>\n",
              "      <td>1</td>\n",
              "      <td>mother three young girls hillary last person w...</td>\n",
              "    </tr>\n",
              "    <tr>\n",
              "      <th>6635</th>\n",
              "      <td>This DA Just Called B.S. On Anti-Trans Republ...</td>\n",
              "      <td>As the GOP s fight to control which bathrooms ...</td>\n",
              "      <td>News</td>\n",
              "      <td>29-Apr-16</td>\n",
              "      <td>False</td>\n",
              "      <td>1</td>\n",
              "      <td>gop fight control bathrooms transgender people...</td>\n",
              "    </tr>\n",
              "    <tr>\n",
              "      <th>23841</th>\n",
              "      <td>U.S. states gird for fight as Trump targets co...</td>\n",
              "      <td>WASHINGTON (Reuters) - Pennsylvania’s Attorney...</td>\n",
              "      <td>politicsNews</td>\n",
              "      <td>01-Dec-17</td>\n",
              "      <td>True</td>\n",
              "      <td>0</td>\n",
              "      <td>washington reuters pennsylvania s attorney gen...</td>\n",
              "    </tr>\n",
              "  </tbody>\n",
              "</table>\n",
              "</div>\n",
              "    <div class=\"colab-df-buttons\">\n",
              "\n",
              "  <div class=\"colab-df-container\">\n",
              "    <button class=\"colab-df-convert\" onclick=\"convertToInteractive('df-ad9c7d24-abc2-4497-b787-0b2949f74de8')\"\n",
              "            title=\"Convert this dataframe to an interactive table.\"\n",
              "            style=\"display:none;\">\n",
              "\n",
              "  <svg xmlns=\"http://www.w3.org/2000/svg\" height=\"24px\" viewBox=\"0 -960 960 960\">\n",
              "    <path d=\"M120-120v-720h720v720H120Zm60-500h600v-160H180v160Zm220 220h160v-160H400v160Zm0 220h160v-160H400v160ZM180-400h160v-160H180v160Zm440 0h160v-160H620v160ZM180-180h160v-160H180v160Zm440 0h160v-160H620v160Z\"/>\n",
              "  </svg>\n",
              "    </button>\n",
              "\n",
              "  <style>\n",
              "    .colab-df-container {\n",
              "      display:flex;\n",
              "      gap: 12px;\n",
              "    }\n",
              "\n",
              "    .colab-df-convert {\n",
              "      background-color: #E8F0FE;\n",
              "      border: none;\n",
              "      border-radius: 50%;\n",
              "      cursor: pointer;\n",
              "      display: none;\n",
              "      fill: #1967D2;\n",
              "      height: 32px;\n",
              "      padding: 0 0 0 0;\n",
              "      width: 32px;\n",
              "    }\n",
              "\n",
              "    .colab-df-convert:hover {\n",
              "      background-color: #E2EBFA;\n",
              "      box-shadow: 0px 1px 2px rgba(60, 64, 67, 0.3), 0px 1px 3px 1px rgba(60, 64, 67, 0.15);\n",
              "      fill: #174EA6;\n",
              "    }\n",
              "\n",
              "    .colab-df-buttons div {\n",
              "      margin-bottom: 4px;\n",
              "    }\n",
              "\n",
              "    [theme=dark] .colab-df-convert {\n",
              "      background-color: #3B4455;\n",
              "      fill: #D2E3FC;\n",
              "    }\n",
              "\n",
              "    [theme=dark] .colab-df-convert:hover {\n",
              "      background-color: #434B5C;\n",
              "      box-shadow: 0px 1px 3px 1px rgba(0, 0, 0, 0.15);\n",
              "      filter: drop-shadow(0px 1px 2px rgba(0, 0, 0, 0.3));\n",
              "      fill: #FFFFFF;\n",
              "    }\n",
              "  </style>\n",
              "\n",
              "    <script>\n",
              "      const buttonEl =\n",
              "        document.querySelector('#df-ad9c7d24-abc2-4497-b787-0b2949f74de8 button.colab-df-convert');\n",
              "      buttonEl.style.display =\n",
              "        google.colab.kernel.accessAllowed ? 'block' : 'none';\n",
              "\n",
              "      async function convertToInteractive(key) {\n",
              "        const element = document.querySelector('#df-ad9c7d24-abc2-4497-b787-0b2949f74de8');\n",
              "        const dataTable =\n",
              "          await google.colab.kernel.invokeFunction('convertToInteractive',\n",
              "                                                    [key], {});\n",
              "        if (!dataTable) return;\n",
              "\n",
              "        const docLinkHtml = 'Like what you see? Visit the ' +\n",
              "          '<a target=\"_blank\" href=https://colab.research.google.com/notebooks/data_table.ipynb>data table notebook</a>'\n",
              "          + ' to learn more about interactive tables.';\n",
              "        element.innerHTML = '';\n",
              "        dataTable['output_type'] = 'display_data';\n",
              "        await google.colab.output.renderOutput(dataTable, element);\n",
              "        const docLink = document.createElement('div');\n",
              "        docLink.innerHTML = docLinkHtml;\n",
              "        element.appendChild(docLink);\n",
              "      }\n",
              "    </script>\n",
              "  </div>\n",
              "\n",
              "\n",
              "<div id=\"df-3edb2b6f-1e8e-4d26-b803-d0b6da7003b7\">\n",
              "  <button class=\"colab-df-quickchart\" onclick=\"quickchart('df-3edb2b6f-1e8e-4d26-b803-d0b6da7003b7')\"\n",
              "            title=\"Suggest charts\"\n",
              "            style=\"display:none;\">\n",
              "\n",
              "<svg xmlns=\"http://www.w3.org/2000/svg\" height=\"24px\"viewBox=\"0 0 24 24\"\n",
              "     width=\"24px\">\n",
              "    <g>\n",
              "        <path d=\"M19 3H5c-1.1 0-2 .9-2 2v14c0 1.1.9 2 2 2h14c1.1 0 2-.9 2-2V5c0-1.1-.9-2-2-2zM9 17H7v-7h2v7zm4 0h-2V7h2v10zm4 0h-2v-4h2v4z\"/>\n",
              "    </g>\n",
              "</svg>\n",
              "  </button>\n",
              "\n",
              "<style>\n",
              "  .colab-df-quickchart {\n",
              "      --bg-color: #E8F0FE;\n",
              "      --fill-color: #1967D2;\n",
              "      --hover-bg-color: #E2EBFA;\n",
              "      --hover-fill-color: #174EA6;\n",
              "      --disabled-fill-color: #AAA;\n",
              "      --disabled-bg-color: #DDD;\n",
              "  }\n",
              "\n",
              "  [theme=dark] .colab-df-quickchart {\n",
              "      --bg-color: #3B4455;\n",
              "      --fill-color: #D2E3FC;\n",
              "      --hover-bg-color: #434B5C;\n",
              "      --hover-fill-color: #FFFFFF;\n",
              "      --disabled-bg-color: #3B4455;\n",
              "      --disabled-fill-color: #666;\n",
              "  }\n",
              "\n",
              "  .colab-df-quickchart {\n",
              "    background-color: var(--bg-color);\n",
              "    border: none;\n",
              "    border-radius: 50%;\n",
              "    cursor: pointer;\n",
              "    display: none;\n",
              "    fill: var(--fill-color);\n",
              "    height: 32px;\n",
              "    padding: 0;\n",
              "    width: 32px;\n",
              "  }\n",
              "\n",
              "  .colab-df-quickchart:hover {\n",
              "    background-color: var(--hover-bg-color);\n",
              "    box-shadow: 0 1px 2px rgba(60, 64, 67, 0.3), 0 1px 3px 1px rgba(60, 64, 67, 0.15);\n",
              "    fill: var(--button-hover-fill-color);\n",
              "  }\n",
              "\n",
              "  .colab-df-quickchart-complete:disabled,\n",
              "  .colab-df-quickchart-complete:disabled:hover {\n",
              "    background-color: var(--disabled-bg-color);\n",
              "    fill: var(--disabled-fill-color);\n",
              "    box-shadow: none;\n",
              "  }\n",
              "\n",
              "  .colab-df-spinner {\n",
              "    border: 2px solid var(--fill-color);\n",
              "    border-color: transparent;\n",
              "    border-bottom-color: var(--fill-color);\n",
              "    animation:\n",
              "      spin 1s steps(1) infinite;\n",
              "  }\n",
              "\n",
              "  @keyframes spin {\n",
              "    0% {\n",
              "      border-color: transparent;\n",
              "      border-bottom-color: var(--fill-color);\n",
              "      border-left-color: var(--fill-color);\n",
              "    }\n",
              "    20% {\n",
              "      border-color: transparent;\n",
              "      border-left-color: var(--fill-color);\n",
              "      border-top-color: var(--fill-color);\n",
              "    }\n",
              "    30% {\n",
              "      border-color: transparent;\n",
              "      border-left-color: var(--fill-color);\n",
              "      border-top-color: var(--fill-color);\n",
              "      border-right-color: var(--fill-color);\n",
              "    }\n",
              "    40% {\n",
              "      border-color: transparent;\n",
              "      border-right-color: var(--fill-color);\n",
              "      border-top-color: var(--fill-color);\n",
              "    }\n",
              "    60% {\n",
              "      border-color: transparent;\n",
              "      border-right-color: var(--fill-color);\n",
              "    }\n",
              "    80% {\n",
              "      border-color: transparent;\n",
              "      border-right-color: var(--fill-color);\n",
              "      border-bottom-color: var(--fill-color);\n",
              "    }\n",
              "    90% {\n",
              "      border-color: transparent;\n",
              "      border-bottom-color: var(--fill-color);\n",
              "    }\n",
              "  }\n",
              "</style>\n",
              "\n",
              "  <script>\n",
              "    async function quickchart(key) {\n",
              "      const quickchartButtonEl =\n",
              "        document.querySelector('#' + key + ' button');\n",
              "      quickchartButtonEl.disabled = true;  // To prevent multiple clicks.\n",
              "      quickchartButtonEl.classList.add('colab-df-spinner');\n",
              "      try {\n",
              "        const charts = await google.colab.kernel.invokeFunction(\n",
              "            'suggestCharts', [key], {});\n",
              "      } catch (error) {\n",
              "        console.error('Error during call to suggestCharts:', error);\n",
              "      }\n",
              "      quickchartButtonEl.classList.remove('colab-df-spinner');\n",
              "      quickchartButtonEl.classList.add('colab-df-quickchart-complete');\n",
              "    }\n",
              "    (() => {\n",
              "      let quickchartButtonEl =\n",
              "        document.querySelector('#df-3edb2b6f-1e8e-4d26-b803-d0b6da7003b7 button');\n",
              "      quickchartButtonEl.style.display =\n",
              "        google.colab.kernel.accessAllowed ? 'block' : 'none';\n",
              "    })();\n",
              "  </script>\n",
              "</div>\n",
              "    </div>\n",
              "  </div>\n"
            ]
          },
          "metadata": {},
          "execution_count": 12
        }
      ]
    },
    {
      "cell_type": "markdown",
      "source": [
        "**Initializing Porter Stemmer function and applying stemming to reduce the text to their root word**"
      ],
      "metadata": {
        "id": "jzdp0HPxXToj"
      }
    },
    {
      "cell_type": "code",
      "source": [
        "port_stemming = PorterStemmer()"
      ],
      "metadata": {
        "id": "RRAlObUBU6sp"
      },
      "execution_count": null,
      "outputs": []
    },
    {
      "cell_type": "code",
      "source": [
        "def stemming(text):\n",
        "  return \" \".join([port_stemming.stem(word) for word in text.split()])"
      ],
      "metadata": {
        "id": "vdLnngQTU8zG"
      },
      "execution_count": null,
      "outputs": []
    },
    {
      "cell_type": "code",
      "source": [
        "shuffled_dataset['stemmed_text'] = shuffled_dataset['processing_text'].apply(lambda x: stemming(x))\n",
        "shuffled_dataset.head()"
      ],
      "metadata": {
        "colab": {
          "base_uri": "https://localhost:8080/",
          "height": 519
        },
        "id": "0MaiQIWbU-1Y",
        "outputId": "7320358c-0f5f-4440-db59-9f7473b773c4"
      },
      "execution_count": null,
      "outputs": [
        {
          "output_type": "execute_result",
          "data": {
            "text/plain": [
              "                                                   title  \\\n",
              "41468   Israel strikes Hamas post after Gaza rocket fire   \n",
              "1467    Chris Wallace SCOLDS Fox News Colleagues For ...   \n",
              "19719  DO WOMAN WANT TO ELECT A BULLY Whose Campaign ...   \n",
              "6635    This DA Just Called B.S. On Anti-Trans Republ...   \n",
              "23841  U.S. states gird for fight as Trump targets co...   \n",
              "\n",
              "                                                    text       subject  \\\n",
              "41468  JERUSALEM (Reuters) - The Israeli military sai...     worldnews   \n",
              "1467   The hosts of Fox & Friends just got their asse...          News   \n",
              "19719  As a mother of three young girls, Hillary is t...     left-news   \n",
              "6635   As the GOP s fight to control which bathrooms ...          News   \n",
              "23841  WASHINGTON (Reuters) - Pennsylvania’s Attorney...  politicsNews   \n",
              "\n",
              "            date  marker  label  \\\n",
              "41468  08-Oct-17    True      0   \n",
              "1467   14-May-17   False      1   \n",
              "19719  26-Oct-16   False      1   \n",
              "6635   29-Apr-16   False      1   \n",
              "23841  01-Dec-17    True      0   \n",
              "\n",
              "                                         processing_text  \\\n",
              "41468  jerusalem reuters israeli military said sunday...   \n",
              "1467   hosts fox friends got asses handed one colleag...   \n",
              "19719  mother three young girls hillary last person w...   \n",
              "6635   gop fight control bathrooms transgender people...   \n",
              "23841  washington reuters pennsylvania s attorney gen...   \n",
              "\n",
              "                                            stemmed_text  \n",
              "41468  jerusalem reuter isra militari said sunday des...  \n",
              "1467   host fox friend got ass hand one colleagu prot...  \n",
              "19719  mother three young girl hillari last person wo...  \n",
              "6635   gop fight control bathroom transgend peopl use...  \n",
              "23841  washington reuter pennsylvania s attorney gene...  "
            ],
            "text/html": [
              "\n",
              "  <div id=\"df-57504cfc-ab29-4c64-bf82-dab0891c69a3\" class=\"colab-df-container\">\n",
              "    <div>\n",
              "<style scoped>\n",
              "    .dataframe tbody tr th:only-of-type {\n",
              "        vertical-align: middle;\n",
              "    }\n",
              "\n",
              "    .dataframe tbody tr th {\n",
              "        vertical-align: top;\n",
              "    }\n",
              "\n",
              "    .dataframe thead th {\n",
              "        text-align: right;\n",
              "    }\n",
              "</style>\n",
              "<table border=\"1\" class=\"dataframe\">\n",
              "  <thead>\n",
              "    <tr style=\"text-align: right;\">\n",
              "      <th></th>\n",
              "      <th>title</th>\n",
              "      <th>text</th>\n",
              "      <th>subject</th>\n",
              "      <th>date</th>\n",
              "      <th>marker</th>\n",
              "      <th>label</th>\n",
              "      <th>processing_text</th>\n",
              "      <th>stemmed_text</th>\n",
              "    </tr>\n",
              "  </thead>\n",
              "  <tbody>\n",
              "    <tr>\n",
              "      <th>41468</th>\n",
              "      <td>Israel strikes Hamas post after Gaza rocket fire</td>\n",
              "      <td>JERUSALEM (Reuters) - The Israeli military sai...</td>\n",
              "      <td>worldnews</td>\n",
              "      <td>08-Oct-17</td>\n",
              "      <td>True</td>\n",
              "      <td>0</td>\n",
              "      <td>jerusalem reuters israeli military said sunday...</td>\n",
              "      <td>jerusalem reuter isra militari said sunday des...</td>\n",
              "    </tr>\n",
              "    <tr>\n",
              "      <th>1467</th>\n",
              "      <td>Chris Wallace SCOLDS Fox News Colleagues For ...</td>\n",
              "      <td>The hosts of Fox &amp; Friends just got their asse...</td>\n",
              "      <td>News</td>\n",
              "      <td>14-May-17</td>\n",
              "      <td>False</td>\n",
              "      <td>1</td>\n",
              "      <td>hosts fox friends got asses handed one colleag...</td>\n",
              "      <td>host fox friend got ass hand one colleagu prot...</td>\n",
              "    </tr>\n",
              "    <tr>\n",
              "      <th>19719</th>\n",
              "      <td>DO WOMAN WANT TO ELECT A BULLY Whose Campaign ...</td>\n",
              "      <td>As a mother of three young girls, Hillary is t...</td>\n",
              "      <td>left-news</td>\n",
              "      <td>26-Oct-16</td>\n",
              "      <td>False</td>\n",
              "      <td>1</td>\n",
              "      <td>mother three young girls hillary last person w...</td>\n",
              "      <td>mother three young girl hillari last person wo...</td>\n",
              "    </tr>\n",
              "    <tr>\n",
              "      <th>6635</th>\n",
              "      <td>This DA Just Called B.S. On Anti-Trans Republ...</td>\n",
              "      <td>As the GOP s fight to control which bathrooms ...</td>\n",
              "      <td>News</td>\n",
              "      <td>29-Apr-16</td>\n",
              "      <td>False</td>\n",
              "      <td>1</td>\n",
              "      <td>gop fight control bathrooms transgender people...</td>\n",
              "      <td>gop fight control bathroom transgend peopl use...</td>\n",
              "    </tr>\n",
              "    <tr>\n",
              "      <th>23841</th>\n",
              "      <td>U.S. states gird for fight as Trump targets co...</td>\n",
              "      <td>WASHINGTON (Reuters) - Pennsylvania’s Attorney...</td>\n",
              "      <td>politicsNews</td>\n",
              "      <td>01-Dec-17</td>\n",
              "      <td>True</td>\n",
              "      <td>0</td>\n",
              "      <td>washington reuters pennsylvania s attorney gen...</td>\n",
              "      <td>washington reuter pennsylvania s attorney gene...</td>\n",
              "    </tr>\n",
              "  </tbody>\n",
              "</table>\n",
              "</div>\n",
              "    <div class=\"colab-df-buttons\">\n",
              "\n",
              "  <div class=\"colab-df-container\">\n",
              "    <button class=\"colab-df-convert\" onclick=\"convertToInteractive('df-57504cfc-ab29-4c64-bf82-dab0891c69a3')\"\n",
              "            title=\"Convert this dataframe to an interactive table.\"\n",
              "            style=\"display:none;\">\n",
              "\n",
              "  <svg xmlns=\"http://www.w3.org/2000/svg\" height=\"24px\" viewBox=\"0 -960 960 960\">\n",
              "    <path d=\"M120-120v-720h720v720H120Zm60-500h600v-160H180v160Zm220 220h160v-160H400v160Zm0 220h160v-160H400v160ZM180-400h160v-160H180v160Zm440 0h160v-160H620v160ZM180-180h160v-160H180v160Zm440 0h160v-160H620v160Z\"/>\n",
              "  </svg>\n",
              "    </button>\n",
              "\n",
              "  <style>\n",
              "    .colab-df-container {\n",
              "      display:flex;\n",
              "      gap: 12px;\n",
              "    }\n",
              "\n",
              "    .colab-df-convert {\n",
              "      background-color: #E8F0FE;\n",
              "      border: none;\n",
              "      border-radius: 50%;\n",
              "      cursor: pointer;\n",
              "      display: none;\n",
              "      fill: #1967D2;\n",
              "      height: 32px;\n",
              "      padding: 0 0 0 0;\n",
              "      width: 32px;\n",
              "    }\n",
              "\n",
              "    .colab-df-convert:hover {\n",
              "      background-color: #E2EBFA;\n",
              "      box-shadow: 0px 1px 2px rgba(60, 64, 67, 0.3), 0px 1px 3px 1px rgba(60, 64, 67, 0.15);\n",
              "      fill: #174EA6;\n",
              "    }\n",
              "\n",
              "    .colab-df-buttons div {\n",
              "      margin-bottom: 4px;\n",
              "    }\n",
              "\n",
              "    [theme=dark] .colab-df-convert {\n",
              "      background-color: #3B4455;\n",
              "      fill: #D2E3FC;\n",
              "    }\n",
              "\n",
              "    [theme=dark] .colab-df-convert:hover {\n",
              "      background-color: #434B5C;\n",
              "      box-shadow: 0px 1px 3px 1px rgba(0, 0, 0, 0.15);\n",
              "      filter: drop-shadow(0px 1px 2px rgba(0, 0, 0, 0.3));\n",
              "      fill: #FFFFFF;\n",
              "    }\n",
              "  </style>\n",
              "\n",
              "    <script>\n",
              "      const buttonEl =\n",
              "        document.querySelector('#df-57504cfc-ab29-4c64-bf82-dab0891c69a3 button.colab-df-convert');\n",
              "      buttonEl.style.display =\n",
              "        google.colab.kernel.accessAllowed ? 'block' : 'none';\n",
              "\n",
              "      async function convertToInteractive(key) {\n",
              "        const element = document.querySelector('#df-57504cfc-ab29-4c64-bf82-dab0891c69a3');\n",
              "        const dataTable =\n",
              "          await google.colab.kernel.invokeFunction('convertToInteractive',\n",
              "                                                    [key], {});\n",
              "        if (!dataTable) return;\n",
              "\n",
              "        const docLinkHtml = 'Like what you see? Visit the ' +\n",
              "          '<a target=\"_blank\" href=https://colab.research.google.com/notebooks/data_table.ipynb>data table notebook</a>'\n",
              "          + ' to learn more about interactive tables.';\n",
              "        element.innerHTML = '';\n",
              "        dataTable['output_type'] = 'display_data';\n",
              "        await google.colab.output.renderOutput(dataTable, element);\n",
              "        const docLink = document.createElement('div');\n",
              "        docLink.innerHTML = docLinkHtml;\n",
              "        element.appendChild(docLink);\n",
              "      }\n",
              "    </script>\n",
              "  </div>\n",
              "\n",
              "\n",
              "<div id=\"df-717ff904-e7ee-43f3-8403-3014314bc102\">\n",
              "  <button class=\"colab-df-quickchart\" onclick=\"quickchart('df-717ff904-e7ee-43f3-8403-3014314bc102')\"\n",
              "            title=\"Suggest charts\"\n",
              "            style=\"display:none;\">\n",
              "\n",
              "<svg xmlns=\"http://www.w3.org/2000/svg\" height=\"24px\"viewBox=\"0 0 24 24\"\n",
              "     width=\"24px\">\n",
              "    <g>\n",
              "        <path d=\"M19 3H5c-1.1 0-2 .9-2 2v14c0 1.1.9 2 2 2h14c1.1 0 2-.9 2-2V5c0-1.1-.9-2-2-2zM9 17H7v-7h2v7zm4 0h-2V7h2v10zm4 0h-2v-4h2v4z\"/>\n",
              "    </g>\n",
              "</svg>\n",
              "  </button>\n",
              "\n",
              "<style>\n",
              "  .colab-df-quickchart {\n",
              "      --bg-color: #E8F0FE;\n",
              "      --fill-color: #1967D2;\n",
              "      --hover-bg-color: #E2EBFA;\n",
              "      --hover-fill-color: #174EA6;\n",
              "      --disabled-fill-color: #AAA;\n",
              "      --disabled-bg-color: #DDD;\n",
              "  }\n",
              "\n",
              "  [theme=dark] .colab-df-quickchart {\n",
              "      --bg-color: #3B4455;\n",
              "      --fill-color: #D2E3FC;\n",
              "      --hover-bg-color: #434B5C;\n",
              "      --hover-fill-color: #FFFFFF;\n",
              "      --disabled-bg-color: #3B4455;\n",
              "      --disabled-fill-color: #666;\n",
              "  }\n",
              "\n",
              "  .colab-df-quickchart {\n",
              "    background-color: var(--bg-color);\n",
              "    border: none;\n",
              "    border-radius: 50%;\n",
              "    cursor: pointer;\n",
              "    display: none;\n",
              "    fill: var(--fill-color);\n",
              "    height: 32px;\n",
              "    padding: 0;\n",
              "    width: 32px;\n",
              "  }\n",
              "\n",
              "  .colab-df-quickchart:hover {\n",
              "    background-color: var(--hover-bg-color);\n",
              "    box-shadow: 0 1px 2px rgba(60, 64, 67, 0.3), 0 1px 3px 1px rgba(60, 64, 67, 0.15);\n",
              "    fill: var(--button-hover-fill-color);\n",
              "  }\n",
              "\n",
              "  .colab-df-quickchart-complete:disabled,\n",
              "  .colab-df-quickchart-complete:disabled:hover {\n",
              "    background-color: var(--disabled-bg-color);\n",
              "    fill: var(--disabled-fill-color);\n",
              "    box-shadow: none;\n",
              "  }\n",
              "\n",
              "  .colab-df-spinner {\n",
              "    border: 2px solid var(--fill-color);\n",
              "    border-color: transparent;\n",
              "    border-bottom-color: var(--fill-color);\n",
              "    animation:\n",
              "      spin 1s steps(1) infinite;\n",
              "  }\n",
              "\n",
              "  @keyframes spin {\n",
              "    0% {\n",
              "      border-color: transparent;\n",
              "      border-bottom-color: var(--fill-color);\n",
              "      border-left-color: var(--fill-color);\n",
              "    }\n",
              "    20% {\n",
              "      border-color: transparent;\n",
              "      border-left-color: var(--fill-color);\n",
              "      border-top-color: var(--fill-color);\n",
              "    }\n",
              "    30% {\n",
              "      border-color: transparent;\n",
              "      border-left-color: var(--fill-color);\n",
              "      border-top-color: var(--fill-color);\n",
              "      border-right-color: var(--fill-color);\n",
              "    }\n",
              "    40% {\n",
              "      border-color: transparent;\n",
              "      border-right-color: var(--fill-color);\n",
              "      border-top-color: var(--fill-color);\n",
              "    }\n",
              "    60% {\n",
              "      border-color: transparent;\n",
              "      border-right-color: var(--fill-color);\n",
              "    }\n",
              "    80% {\n",
              "      border-color: transparent;\n",
              "      border-right-color: var(--fill-color);\n",
              "      border-bottom-color: var(--fill-color);\n",
              "    }\n",
              "    90% {\n",
              "      border-color: transparent;\n",
              "      border-bottom-color: var(--fill-color);\n",
              "    }\n",
              "  }\n",
              "</style>\n",
              "\n",
              "  <script>\n",
              "    async function quickchart(key) {\n",
              "      const quickchartButtonEl =\n",
              "        document.querySelector('#' + key + ' button');\n",
              "      quickchartButtonEl.disabled = true;  // To prevent multiple clicks.\n",
              "      quickchartButtonEl.classList.add('colab-df-spinner');\n",
              "      try {\n",
              "        const charts = await google.colab.kernel.invokeFunction(\n",
              "            'suggestCharts', [key], {});\n",
              "      } catch (error) {\n",
              "        console.error('Error during call to suggestCharts:', error);\n",
              "      }\n",
              "      quickchartButtonEl.classList.remove('colab-df-spinner');\n",
              "      quickchartButtonEl.classList.add('colab-df-quickchart-complete');\n",
              "    }\n",
              "    (() => {\n",
              "      let quickchartButtonEl =\n",
              "        document.querySelector('#df-717ff904-e7ee-43f3-8403-3014314bc102 button');\n",
              "      quickchartButtonEl.style.display =\n",
              "        google.colab.kernel.accessAllowed ? 'block' : 'none';\n",
              "    })();\n",
              "  </script>\n",
              "</div>\n",
              "    </div>\n",
              "  </div>\n"
            ]
          },
          "metadata": {},
          "execution_count": 15
        }
      ]
    },
    {
      "cell_type": "markdown",
      "source": [
        "**Tokenizing the words in the text column**"
      ],
      "metadata": {
        "id": "rL9waYNbXn4R"
      }
    },
    {
      "cell_type": "code",
      "source": [
        "def token(text):\n",
        "  return word_tokenize(text)"
      ],
      "metadata": {
        "id": "CEB3lngOXid9"
      },
      "execution_count": null,
      "outputs": []
    },
    {
      "cell_type": "code",
      "source": [
        "shuffled_dataset['stemmed_text'] = shuffled_dataset['stemmed_text'].apply(lambda x: token(x))\n",
        "print(shuffled_dataset)"
      ],
      "metadata": {
        "colab": {
          "base_uri": "https://localhost:8080/"
        },
        "id": "T0HI_rCAXm5H",
        "outputId": "18daeadd-5f68-46c8-8bbc-150cbb6b8744"
      },
      "execution_count": null,
      "outputs": [
        {
          "output_type": "stream",
          "name": "stdout",
          "text": [
            "                                                   title  \\\n",
            "41468   Israel strikes Hamas post after Gaza rocket fire   \n",
            "1467    Chris Wallace SCOLDS Fox News Colleagues For ...   \n",
            "19719  DO WOMAN WANT TO ELECT A BULLY Whose Campaign ...   \n",
            "6635    This DA Just Called B.S. On Anti-Trans Republ...   \n",
            "23841  U.S. states gird for fight as Trump targets co...   \n",
            "...                                                  ...   \n",
            "21930  Digital Tabloids, Narco-memes & The League of ...   \n",
            "35619  Supporters of Hungarian Jobbik opposition part...   \n",
            "22392  Hillary’s Secret Weapon: Evan McMullin is CIA-...   \n",
            "10645  PRESIDENT TRUMP CRASHES WEDDING: Shocks Weddin...   \n",
            "27233  New U.S. trade envoy says to meet lawmakers on...   \n",
            "\n",
            "                                                    text       subject  \\\n",
            "41468  JERUSALEM (Reuters) - The Israeli military sai...     worldnews   \n",
            "1467   The hosts of Fox & Friends just got their asse...          News   \n",
            "19719  As a mother of three young girls, Hillary is t...     left-news   \n",
            "6635   As the GOP s fight to control which bathrooms ...          News   \n",
            "23841  WASHINGTON (Reuters) - Pennsylvania’s Attorney...  politicsNews   \n",
            "...                                                  ...           ...   \n",
            "21930  Tune in to the Alternate Current Radio Network...       US_News   \n",
            "35619  BUDAPEST (Reuters) - About a thousand Hungaria...     worldnews   \n",
            "22392  J.R. Smith 21st Century WireMuch has been made...       US_News   \n",
            "10645  President Trump made a surprise appearance at ...      politics   \n",
            "27233  WASHINGTON (Reuters) - New U.S. Trade Represen...  politicsNews   \n",
            "\n",
            "            date  marker  label  \\\n",
            "41468  08-Oct-17    True      0   \n",
            "1467   14-May-17   False      1   \n",
            "19719  26-Oct-16   False      1   \n",
            "6635   29-Apr-16   False      1   \n",
            "23841  01-Dec-17    True      0   \n",
            "...          ...     ...    ...   \n",
            "21930  16-Nov-17   False      1   \n",
            "35619  15-Dec-17    True      0   \n",
            "22392  31-Oct-16   False      1   \n",
            "10645  12-Jun-17   False      1   \n",
            "27233  15-May-17    True      0   \n",
            "\n",
            "                                         processing_text  \\\n",
            "41468  jerusalem reuters israeli military said sunday...   \n",
            "1467   hosts fox friends got asses handed one colleag...   \n",
            "19719  mother three young girls hillary last person w...   \n",
            "6635   gop fight control bathrooms transgender people...   \n",
            "23841  washington reuters pennsylvania s attorney gen...   \n",
            "...                                                  ...   \n",
            "21930  tune alternate current radio network acr anoth...   \n",
            "35619  budapest reuters thousand hungarians protested...   \n",
            "22392  jr smith 21st century wiremuch made democrat h...   \n",
            "10645  president trump made surprise appearance weddi...   \n",
            "27233  washington reuters new us trade representative...   \n",
            "\n",
            "                                            stemmed_text  \n",
            "41468  [jerusalem, reuter, isra, militari, said, sund...  \n",
            "1467   [host, fox, friend, got, ass, hand, one, colle...  \n",
            "19719  [mother, three, young, girl, hillari, last, pe...  \n",
            "6635   [gop, fight, control, bathroom, transgend, peo...  \n",
            "23841  [washington, reuter, pennsylvania, s, attorney...  \n",
            "...                                                  ...  \n",
            "21930  [tune, altern, current, radio, network, acr, a...  \n",
            "35619  [budapest, reuter, thousand, hungarian, protes...  \n",
            "22392  [jr, smith, 21st, centuri, wiremuch, made, dem...  \n",
            "10645  [presid, trump, made, surpris, appear, wed, tr...  \n",
            "27233  [washington, reuter, new, us, trade, repres, r...  \n",
            "\n",
            "[44867 rows x 8 columns]\n"
          ]
        }
      ]
    },
    {
      "cell_type": "markdown",
      "source": [
        "**Creating Train and Test split**"
      ],
      "metadata": {
        "id": "Je511jp_XwVI"
      }
    },
    {
      "cell_type": "code",
      "source": [
        "X_train, X_test, y_train, y_test = train_test_split(shuffled_dataset.text, shuffled_dataset.label, test_size=0.25)"
      ],
      "metadata": {
        "id": "sIANaJixXsI-"
      },
      "execution_count": null,
      "outputs": []
    },
    {
      "cell_type": "code",
      "source": [
        "print('X_train:', X_train.shape,\n",
        "      'X_test:', X_test.shape,\n",
        "      'y_train:', y_train.shape,\n",
        "      'y_test:', y_test.shape)\n"
      ],
      "metadata": {
        "colab": {
          "base_uri": "https://localhost:8080/"
        },
        "id": "xWP1kMrlYJSd",
        "outputId": "90367694-fc38-4568-ab24-49e410c30a9d"
      },
      "execution_count": null,
      "outputs": [
        {
          "output_type": "stream",
          "name": "stdout",
          "text": [
            "X_train: (33650,) X_test: (11217,) y_train: (33650,) y_test: (11217,)\n"
          ]
        }
      ]
    },
    {
      "cell_type": "markdown",
      "source": [
        "**Applying CountVectorizer**"
      ],
      "metadata": {
        "id": "iXua12G_ZEY8"
      }
    },
    {
      "cell_type": "code",
      "source": [
        "bag_of_words = CountVectorizer(max_features=5000,ngram_range=(1,3))"
      ],
      "metadata": {
        "id": "7ClU5pyRYwm8"
      },
      "execution_count": null,
      "outputs": []
    },
    {
      "cell_type": "code",
      "source": [
        "X_train_bow = bag_of_words.fit_transform(X_train.values)\n",
        "#y_train = shuffled_dataset.label"
      ],
      "metadata": {
        "id": "fhz_yvsHZKsk"
      },
      "execution_count": null,
      "outputs": []
    },
    {
      "cell_type": "code",
      "source": [
        "X_train_bow"
      ],
      "metadata": {
        "colab": {
          "base_uri": "https://localhost:8080/"
        },
        "id": "IkllLW13ZNNB",
        "outputId": "a6b7ca4d-5a3c-4a2e-f676-e2226669b300"
      },
      "execution_count": null,
      "outputs": [
        {
          "output_type": "execute_result",
          "data": {
            "text/plain": [
              "<33650x5000 sparse matrix of type '<class 'numpy.int64'>'\n",
              "\twith 7885395 stored elements in Compressed Sparse Row format>"
            ]
          },
          "metadata": {},
          "execution_count": 22
        }
      ]
    },
    {
      "cell_type": "code",
      "source": [
        "import matplotlib.pyplot as plt\n",
        "from wordcloud import WordCloud\n",
        "\n",
        "shuffled_dataset['stemmed_text'] = shuffled_dataset['stemmed_text'].apply(lambda x: ' '.join(x))\n",
        "\n",
        "\n",
        "tfidf_vectorizer = TfidfVectorizer(max_features=5000,ngram_range=(1,3))\n",
        "tfidf_matrix = tfidf_vectorizer.fit_transform(shuffled_dataset['stemmed_text'])\n",
        "\n",
        "feature_names = tfidf_vectorizer.get_feature_names_out()\n",
        "\n",
        "tfidf_values = tfidf_matrix.sum(axis=0).A1\n",
        "\n",
        "# Create a dictionary with word frequencies\n",
        "word_frequencies = dict(zip(feature_names, tfidf_values))\n",
        "\n",
        "# Create a WordCloud object\n",
        "wordcloud = WordCloud(width=800, height=400, background_color='white').generate_from_frequencies(word_frequencies)\n",
        "\n",
        "# Display the WordCloud\n",
        "plt.figure(figsize=(10, 5))\n",
        "plt.imshow(wordcloud, interpolation='bilinear')\n",
        "plt.axis('off')\n",
        "plt.show()"
      ],
      "metadata": {
        "id": "8Kp834Xs7NQW"
      },
      "execution_count": null,
      "outputs": []
    },
    {
      "cell_type": "code",
      "source": [
        "from wordcloud import WordCloud\n",
        "import matplotlib.pyplot as plt\n",
        "from sklearn.feature_extraction.text import CountVectorizer\n",
        "\n",
        "# Sample text\n",
        "#text = \"This is a sample text for creating a word cloud. Word clouds are a visual representation of word frequencies.\"\n",
        "\n",
        "# Step 1: Create a Bag-of-Words Model\n",
        "vectorizer = CountVectorizer()\n",
        "X = vectorizer.fit_transform(shuffled_dataset['text'])\n",
        "\n",
        "# Step 2: Generate the Word Cloud\n",
        "wordcloud = WordCloud(width=800, height=400, background_color=\"white\").generate_from_frequencies(dict(zip(vectorizer.get_feature_names_out(), X.toarray()[0])))\n",
        "\n",
        "# Step 3: Display the Word Cloud\n",
        "plt.figure(figsize=(10, 5))\n",
        "plt.imshow(wordcloud, interpolation='bilinear')\n",
        "plt.axis(\"off\")\n",
        "plt.show()"
      ],
      "metadata": {
        "id": "vq9f0SUh5nq3"
      },
      "execution_count": null,
      "outputs": []
    },
    {
      "cell_type": "code",
      "source": [
        "# import matplotlib.pyplot as plt\n",
        "# from wordcloud import WordCloud\n",
        "\n",
        "# shuffled_dataset['processing_text'] = shuffled_dataset['processing_text'].apply(lambda x: ' '.join(x))\n",
        "\n",
        "\n",
        "# bag_of_words = CountVectorizer(max_features=5000,ngram_range=(1,3))\n",
        "# bow_matrix = bag_of_words.fit_transform(shuffled_dataset['processing_text'])\n",
        "\n",
        "# feature_names = bow_matrix.get_feature_names()\n",
        "\n",
        "# bow_values = bow_matrix.sum(axis=0).A1\n",
        "\n",
        "# # Create a dictionary with word frequencies\n",
        "# word_frequencies = dict(zip(feature_names, bow_values))\n",
        "\n",
        "# # Create a WordCloud object\n",
        "# wordcloud = WordCloud(width=800, height=400, background_color='white').generate_from_frequencies(word_frequencies)\n",
        "\n",
        "# # Display the WordCloud\n",
        "# plt.figure(figsize=(10, 5))\n",
        "# plt.imshow(wordcloud, interpolation='bilinear')\n",
        "# plt.axis('off')\n",
        "# plt.show()\n",
        "# import matplotlib.pyplot as plt\n",
        "# from wordcloud import WordCloud\n",
        "# from sklearn.feature_extraction.text import CountVectorizer\n",
        "\n",
        "# # Assuming 'shuffled_dataset' is a DataFrame with a 'stemmed_text' column\n",
        "# if not shuffled_dataset['stemmed_text'].empty:\n",
        "#     bag_of_words = CountVectorizer(max_features=5000, ngram_range=(1, 3))\n",
        "#     bow_matrix = bag_of_words.fit_transform(shuffled_dataset['stemmed_text'])\n",
        "\n",
        "#     # Get feature names from the CountVectorizer\n",
        "#     feature_names = bag_of_words.get_feature_names_out()\n",
        "\n",
        "#     # Get word frequencies from the bag-of-words matrix\n",
        "#     bow_values = bow_matrix.sum(axis=0).A1\n",
        "\n",
        "#     # Create a dictionary with word frequencies\n",
        "#     word_frequencies = dict(zip(feature_names, bow_values))\n",
        "\n",
        "#     # Create a WordCloud object\n",
        "#     wordcloud = WordCloud(width=800, height=400, background_color='white').generate_from_frequencies(word_frequencies)\n",
        "\n",
        "#     # Display the WordCloud\n",
        "#     plt.figure(figsize=(10, 5))\n",
        "#     plt.imshow(wordcloud, interpolation='bilinear')\n",
        "#     plt.axis('off')\n",
        "#     plt.show()\n",
        "# else:\n",
        "#     print(\"The 'stemmed_text' column is empty.\")\n",
        "\n",
        "# Import necessary libraries\n",
        "from sklearn.feature_extraction.text import CountVectorizer\n",
        "from wordcloud import WordCloud\n",
        "import matplotlib.pyplot as plt\n",
        "\n",
        "# Sample text data\n",
        "\n",
        "\n",
        "# Step 1: Create a Count Vectorizer\n",
        "vectorizer = CountVectorizer()\n",
        "X = vectorizer.fit_transform(shuffled_dataset.text)\n",
        "\n",
        "# Step 2: Get feature names and their counts\n",
        "feature_names = vectorizer.get_feature_names_out()\n",
        "word_counts = X.toarray().sum(axis=0)\n",
        "\n",
        "# Step 3: Create a dictionary with words and their counts\n",
        "word_count_dict = dict(zip(feature_names, word_counts))\n",
        "\n",
        "# Step 4: Create a WordCloud\n",
        "wordcloud = WordCloud(width=800, height=400, background_color='white').generate_from_frequencies(word_count_dict)\n",
        "\n",
        "# Step 5: Plot the WordCloud\n",
        "plt.figure(figsize=(10, 5))\n",
        "plt.imshow(wordcloud, interpolation='bilinear')\n",
        "plt.axis('off')\n",
        "plt.show()\n",
        "\n"
      ],
      "metadata": {
        "id": "ALU1pmXVda_A"
      },
      "execution_count": null,
      "outputs": []
    },
    {
      "cell_type": "markdown",
      "source": [
        "# **Initializing the selected Machine learning models**"
      ],
      "metadata": {
        "id": "VMPHakKYaoI-"
      }
    },
    {
      "cell_type": "code",
      "source": [
        "svm_model = SVC()\n",
        "nb_model = MultinomialNB()\n",
        "xgb_model = xgb.XGBClassifier()"
      ],
      "metadata": {
        "id": "JWfyowHvam2C"
      },
      "execution_count": null,
      "outputs": []
    },
    {
      "cell_type": "markdown",
      "source": [
        "# **Defining Hyperparameters for selected Machine learning algorithms**"
      ],
      "metadata": {
        "id": "kkIUtsM1a1bw"
      }
    },
    {
      "cell_type": "code",
      "source": [
        "svm_param_distributions = {'C': uniform(0.5, 1), 'kernel': ['linear', 'rbf', 'sigmoid']}\n",
        "nb_param_distributions = {'alpha': uniform(0.5, 10)}\n",
        "xgb_param_distributions = {'n_estimators': randint(50, 100), 'max_depth': randint(3, 8)}"
      ],
      "metadata": {
        "id": "NxVmhenNauae"
      },
      "execution_count": null,
      "outputs": []
    },
    {
      "cell_type": "code",
      "source": [
        "stratified_kfold = StratifiedKFold(n_splits=10, shuffle=True, random_state=1)"
      ],
      "metadata": {
        "id": "Y21TYxhSbRmO"
      },
      "execution_count": null,
      "outputs": []
    },
    {
      "cell_type": "markdown",
      "source": [
        "# **Multinomial Naive Bayes**"
      ],
      "metadata": {
        "id": "hV5F010MiR5u"
      }
    },
    {
      "cell_type": "code",
      "source": [
        "random_search = RandomizedSearchCV(estimator=nb_model, param_distributions=nb_param_distributions, scoring='accuracy', n_iter=5, cv=stratified_kfold, verbose=1, random_state=1)"
      ],
      "metadata": {
        "id": "oLaoBhRxhHqU"
      },
      "execution_count": null,
      "outputs": []
    },
    {
      "cell_type": "code",
      "source": [
        "random_search.fit(X_train_bow, y_train)\n"
      ],
      "metadata": {
        "colab": {
          "base_uri": "https://localhost:8080/",
          "height": 276
        },
        "id": "lIaqmh_Phsjb",
        "outputId": "422c823e-7783-44f0-f91f-9b7f43ca1dc0"
      },
      "execution_count": null,
      "outputs": [
        {
          "output_type": "stream",
          "name": "stdout",
          "text": [
            "Fitting 10 folds for each of 5 candidates, totalling 50 fits\n"
          ]
        },
        {
          "output_type": "execute_result",
          "data": {
            "text/plain": [
              "RandomizedSearchCV(cv=StratifiedKFold(n_splits=10, random_state=1, shuffle=True),\n",
              "                   estimator=MultinomialNB(), n_iter=5,\n",
              "                   param_distributions={'alpha': <scipy.stats._distn_infrastructure.rv_continuous_frozen object at 0x7d54f33e1f00>},\n",
              "                   random_state=1, scoring='accuracy', verbose=1)"
            ],
            "text/html": [
              "<style>#sk-container-id-1 {color: black;background-color: white;}#sk-container-id-1 pre{padding: 0;}#sk-container-id-1 div.sk-toggleable {background-color: white;}#sk-container-id-1 label.sk-toggleable__label {cursor: pointer;display: block;width: 100%;margin-bottom: 0;padding: 0.3em;box-sizing: border-box;text-align: center;}#sk-container-id-1 label.sk-toggleable__label-arrow:before {content: \"▸\";float: left;margin-right: 0.25em;color: #696969;}#sk-container-id-1 label.sk-toggleable__label-arrow:hover:before {color: black;}#sk-container-id-1 div.sk-estimator:hover label.sk-toggleable__label-arrow:before {color: black;}#sk-container-id-1 div.sk-toggleable__content {max-height: 0;max-width: 0;overflow: hidden;text-align: left;background-color: #f0f8ff;}#sk-container-id-1 div.sk-toggleable__content pre {margin: 0.2em;color: black;border-radius: 0.25em;background-color: #f0f8ff;}#sk-container-id-1 input.sk-toggleable__control:checked~div.sk-toggleable__content {max-height: 200px;max-width: 100%;overflow: auto;}#sk-container-id-1 input.sk-toggleable__control:checked~label.sk-toggleable__label-arrow:before {content: \"▾\";}#sk-container-id-1 div.sk-estimator input.sk-toggleable__control:checked~label.sk-toggleable__label {background-color: #d4ebff;}#sk-container-id-1 div.sk-label input.sk-toggleable__control:checked~label.sk-toggleable__label {background-color: #d4ebff;}#sk-container-id-1 input.sk-hidden--visually {border: 0;clip: rect(1px 1px 1px 1px);clip: rect(1px, 1px, 1px, 1px);height: 1px;margin: -1px;overflow: hidden;padding: 0;position: absolute;width: 1px;}#sk-container-id-1 div.sk-estimator {font-family: monospace;background-color: #f0f8ff;border: 1px dotted black;border-radius: 0.25em;box-sizing: border-box;margin-bottom: 0.5em;}#sk-container-id-1 div.sk-estimator:hover {background-color: #d4ebff;}#sk-container-id-1 div.sk-parallel-item::after {content: \"\";width: 100%;border-bottom: 1px solid gray;flex-grow: 1;}#sk-container-id-1 div.sk-label:hover label.sk-toggleable__label {background-color: #d4ebff;}#sk-container-id-1 div.sk-serial::before {content: \"\";position: absolute;border-left: 1px solid gray;box-sizing: border-box;top: 0;bottom: 0;left: 50%;z-index: 0;}#sk-container-id-1 div.sk-serial {display: flex;flex-direction: column;align-items: center;background-color: white;padding-right: 0.2em;padding-left: 0.2em;position: relative;}#sk-container-id-1 div.sk-item {position: relative;z-index: 1;}#sk-container-id-1 div.sk-parallel {display: flex;align-items: stretch;justify-content: center;background-color: white;position: relative;}#sk-container-id-1 div.sk-item::before, #sk-container-id-1 div.sk-parallel-item::before {content: \"\";position: absolute;border-left: 1px solid gray;box-sizing: border-box;top: 0;bottom: 0;left: 50%;z-index: -1;}#sk-container-id-1 div.sk-parallel-item {display: flex;flex-direction: column;z-index: 1;position: relative;background-color: white;}#sk-container-id-1 div.sk-parallel-item:first-child::after {align-self: flex-end;width: 50%;}#sk-container-id-1 div.sk-parallel-item:last-child::after {align-self: flex-start;width: 50%;}#sk-container-id-1 div.sk-parallel-item:only-child::after {width: 0;}#sk-container-id-1 div.sk-dashed-wrapped {border: 1px dashed gray;margin: 0 0.4em 0.5em 0.4em;box-sizing: border-box;padding-bottom: 0.4em;background-color: white;}#sk-container-id-1 div.sk-label label {font-family: monospace;font-weight: bold;display: inline-block;line-height: 1.2em;}#sk-container-id-1 div.sk-label-container {text-align: center;}#sk-container-id-1 div.sk-container {/* jupyter's `normalize.less` sets `[hidden] { display: none; }` but bootstrap.min.css set `[hidden] { display: none !important; }` so we also need the `!important` here to be able to override the default hidden behavior on the sphinx rendered scikit-learn.org. See: https://github.com/scikit-learn/scikit-learn/issues/21755 */display: inline-block !important;position: relative;}#sk-container-id-1 div.sk-text-repr-fallback {display: none;}</style><div id=\"sk-container-id-1\" class=\"sk-top-container\"><div class=\"sk-text-repr-fallback\"><pre>RandomizedSearchCV(cv=StratifiedKFold(n_splits=10, random_state=1, shuffle=True),\n",
              "                   estimator=MultinomialNB(), n_iter=5,\n",
              "                   param_distributions={&#x27;alpha&#x27;: &lt;scipy.stats._distn_infrastructure.rv_continuous_frozen object at 0x7d54f33e1f00&gt;},\n",
              "                   random_state=1, scoring=&#x27;accuracy&#x27;, verbose=1)</pre><b>In a Jupyter environment, please rerun this cell to show the HTML representation or trust the notebook. <br />On GitHub, the HTML representation is unable to render, please try loading this page with nbviewer.org.</b></div><div class=\"sk-container\" hidden><div class=\"sk-item sk-dashed-wrapped\"><div class=\"sk-label-container\"><div class=\"sk-label sk-toggleable\"><input class=\"sk-toggleable__control sk-hidden--visually\" id=\"sk-estimator-id-1\" type=\"checkbox\" ><label for=\"sk-estimator-id-1\" class=\"sk-toggleable__label sk-toggleable__label-arrow\">RandomizedSearchCV</label><div class=\"sk-toggleable__content\"><pre>RandomizedSearchCV(cv=StratifiedKFold(n_splits=10, random_state=1, shuffle=True),\n",
              "                   estimator=MultinomialNB(), n_iter=5,\n",
              "                   param_distributions={&#x27;alpha&#x27;: &lt;scipy.stats._distn_infrastructure.rv_continuous_frozen object at 0x7d54f33e1f00&gt;},\n",
              "                   random_state=1, scoring=&#x27;accuracy&#x27;, verbose=1)</pre></div></div></div><div class=\"sk-parallel\"><div class=\"sk-parallel-item\"><div class=\"sk-item\"><div class=\"sk-label-container\"><div class=\"sk-label sk-toggleable\"><input class=\"sk-toggleable__control sk-hidden--visually\" id=\"sk-estimator-id-2\" type=\"checkbox\" ><label for=\"sk-estimator-id-2\" class=\"sk-toggleable__label sk-toggleable__label-arrow\">estimator: MultinomialNB</label><div class=\"sk-toggleable__content\"><pre>MultinomialNB()</pre></div></div></div><div class=\"sk-serial\"><div class=\"sk-item\"><div class=\"sk-estimator sk-toggleable\"><input class=\"sk-toggleable__control sk-hidden--visually\" id=\"sk-estimator-id-3\" type=\"checkbox\" ><label for=\"sk-estimator-id-3\" class=\"sk-toggleable__label sk-toggleable__label-arrow\">MultinomialNB</label><div class=\"sk-toggleable__content\"><pre>MultinomialNB()</pre></div></div></div></div></div></div></div></div></div></div>"
            ]
          },
          "metadata": {},
          "execution_count": 27
        }
      ]
    },
    {
      "cell_type": "code",
      "source": [
        "print(\"Best Parameters: \", random_search.best_params_)\n",
        "print(\"Best Accuracy: \", random_search.best_score_)"
      ],
      "metadata": {
        "colab": {
          "base_uri": "https://localhost:8080/"
        },
        "id": "M4ilyd3eiBte",
        "outputId": "1cc4af9b-da2d-4d5d-9d02-7bd53d3e753e"
      },
      "execution_count": null,
      "outputs": [
        {
          "output_type": "stream",
          "name": "stdout",
          "text": [
            "Best Parameters:  {'alpha': 0.5011437481734489}\n",
            "Best Accuracy:  0.9610104011887073\n"
          ]
        }
      ]
    },
    {
      "cell_type": "code",
      "source": [
        "X_test_bow = bag_of_words.transform(X_test)"
      ],
      "metadata": {
        "id": "Rk5PKbvWikpb"
      },
      "execution_count": null,
      "outputs": []
    },
    {
      "cell_type": "code",
      "source": [
        "y_pred = random_search.predict(X_test_bow)\n",
        "\n",
        "print(classification_report(y_test, y_pred))"
      ],
      "metadata": {
        "colab": {
          "base_uri": "https://localhost:8080/"
        },
        "id": "xo3feZE6ivFN",
        "outputId": "8e010db7-ac4f-454f-f9b9-be26dabab8e2"
      },
      "execution_count": null,
      "outputs": [
        {
          "output_type": "stream",
          "name": "stdout",
          "text": [
            "              precision    recall  f1-score   support\n",
            "\n",
            "           0       0.95      0.97      0.96      5304\n",
            "           1       0.97      0.95      0.96      5913\n",
            "\n",
            "    accuracy                           0.96     11217\n",
            "   macro avg       0.96      0.96      0.96     11217\n",
            "weighted avg       0.96      0.96      0.96     11217\n",
            "\n"
          ]
        }
      ]
    },
    {
      "cell_type": "code",
      "source": [
        "import seaborn as sns\n",
        "import matplotlib.pyplot as plt\n",
        "\n",
        "\n",
        "conf_matrix = confusion_matrix(y_test, y_pred)\n",
        "\n",
        "# Print the confusion matrix\n",
        "print(\"Confusion Matrix:\")\n",
        "print(conf_matrix)\n",
        "\n",
        "# Create a heatmap\n",
        "sns.heatmap(conf_matrix, annot=True, fmt='d', cmap='Blues', annot_kws={\"size\": 16})\n",
        "\n",
        "# Set labels and title\n",
        "plt.xlabel('Predicted labels')\n",
        "plt.ylabel('True labels')\n",
        "plt.title('Confusion Matrix')\n",
        "\n",
        "# Display the plot\n",
        "plt.show()"
      ],
      "metadata": {
        "colab": {
          "base_uri": "https://localhost:8080/",
          "height": 524
        },
        "id": "ynJ_mdH9mbjY",
        "outputId": "007bdba0-8365-4224-d7dc-14afaa7f1922"
      },
      "execution_count": null,
      "outputs": [
        {
          "output_type": "stream",
          "name": "stdout",
          "text": [
            "Confusion Matrix:\n",
            "[[5120  184]\n",
            " [ 284 5629]]\n"
          ]
        },
        {
          "output_type": "display_data",
          "data": {
            "text/plain": [
              "<Figure size 640x480 with 2 Axes>"
            ],
            "image/png": "[encoded data removed]"
          },
          "metadata": {}
        }
      ]
    },
    {
      "cell_type": "code",
      "source": [
        "from sklearn.metrics import roc_curve, auc\n",
        "\n",
        "#y_prob = xgb_model.predict_proba(X_test)[:, 1]\n",
        "y_pred_nb = random_search.predict_proba(X_test_bow)#[:, 1]\n",
        "\n",
        "# Assuming y_test is your true labels\n",
        "fpr, tpr, threshold = roc_curve(y_test, y_pred_nb[:, 1])\n",
        "roc_auc = auc(fpr, tpr)"
      ],
      "metadata": {
        "id": "KC0TL8nJpY5X"
      },
      "execution_count": null,
      "outputs": []
    },
    {
      "cell_type": "code",
      "source": [
        "import matplotlib.pyplot as plt\n",
        "\n",
        "# Plot the ROC curve\n",
        "plt.figure(figsize=(8, 8))\n",
        "plt.plot(fpr, tpr, color='darkorange', lw=2, label='ROC curve (area = {:.2f})'.format(roc_auc))\n",
        "plt.plot([0, 1], [0, 1], color='navy', lw=2, linestyle='--')\n",
        "plt.xlabel('False Positive Rate')\n",
        "plt.ylabel('True Positive Rate')\n",
        "plt.title('Receiver Operating Characteristic (ROC) Curve')\n",
        "plt.legend(loc='lower right')\n",
        "plt.show()"
      ],
      "metadata": {
        "colab": {
          "base_uri": "https://localhost:8080/",
          "height": 718
        },
        "id": "wvOb8mN4peMi",
        "outputId": "eb21d834-88a6-4eb2-8269-8460f6bc1f5d"
      },
      "execution_count": null,
      "outputs": [
        {
          "output_type": "display_data",
          "data": {
            "text/plain": [
              "<Figure size 800x800 with 1 Axes>"
            ],
            "image/png": "[encoded data removed]"
          },
          "metadata": {}
        }
      ]
    },
    {
      "cell_type": "markdown",
      "source": [
        "# **XGboost**"
      ],
      "metadata": {
        "id": "4dSdzDsejB10"
      }
    },
    {
      "cell_type": "code",
      "source": [
        "random_search = RandomizedSearchCV(estimator=xgb_model, param_distributions=xgb_param_distributions, scoring='accuracy', n_iter=5, cv=stratified_kfold, verbose=1, random_state=1)"
      ],
      "metadata": {
        "id": "hennu7cNjBb-"
      },
      "execution_count": null,
      "outputs": []
    },
    {
      "cell_type": "code",
      "source": [
        "random_search.fit(X_train_bow, y_train)"
      ],
      "metadata": {
        "colab": {
          "base_uri": "https://localhost:8080/",
          "height": 135
        },
        "id": "_-xx5lh8jajJ",
        "outputId": "71128232-b5c9-46ff-f49b-eafa5843e7d2"
      },
      "execution_count": null,
      "outputs": [
        {
          "output_type": "stream",
          "name": "stdout",
          "text": [
            "Fitting 10 folds for each of 5 candidates, totalling 50 fits\n"
          ]
        },
        {
          "output_type": "execute_result",
          "data": {
            "text/plain": [
              "RandomizedSearchCV(cv=StratifiedKFold(n_splits=10, random_state=1, shuffle=True),\n",
              "                   estimator=XGBClassifier(base_score=None, booster=None,\n",
              "                                           callbacks=None,\n",
              "                                           colsample_bylevel=None,\n",
              "                                           colsample_bynode=None,\n",
              "                                           colsample_bytree=None, device=None,\n",
              "                                           early_stopping_rounds=None,\n",
              "                                           enable_categorical=False,\n",
              "                                           eval_metric=None, feature_types=None,\n",
              "                                           gamma=None, grow_policy=None,\n",
              "                                           importan...\n",
              "                                           multi_strategy=None,\n",
              "                                           n_estimators=None, n_jobs=None,\n",
              "                                           num_parallel_tree=None,\n",
              "                                           random_state=None, ...),\n",
              "                   n_iter=5,\n",
              "                   param_distributions={'max_depth': <scipy.stats._distn_infrastructure.rv_discrete_frozen object at 0x7d54f33e2bc0>,\n",
              "                                        'n_estimators': <scipy.stats._distn_infrastructure.rv_discrete_frozen object at 0x7d54f33e24d0>},\n",
              "                   random_state=1, scoring='accuracy', verbose=1)"
            ],
            "text/html": [
              "<style>#sk-container-id-2 {color: black;background-color: white;}#sk-container-id-2 pre{padding: 0;}#sk-container-id-2 div.sk-toggleable {background-color: white;}#sk-container-id-2 label.sk-toggleable__label {cursor: pointer;display: block;width: 100%;margin-bottom: 0;padding: 0.3em;box-sizing: border-box;text-align: center;}#sk-container-id-2 label.sk-toggleable__label-arrow:before {content: \"▸\";float: left;margin-right: 0.25em;color: #696969;}#sk-container-id-2 label.sk-toggleable__label-arrow:hover:before {color: black;}#sk-container-id-2 div.sk-estimator:hover label.sk-toggleable__label-arrow:before {color: black;}#sk-container-id-2 div.sk-toggleable__content {max-height: 0;max-width: 0;overflow: hidden;text-align: left;background-color: #f0f8ff;}#sk-container-id-2 div.sk-toggleable__content pre {margin: 0.2em;color: black;border-radius: 0.25em;background-color: #f0f8ff;}#sk-container-id-2 input.sk-toggleable__control:checked~div.sk-toggleable__content {max-height: 200px;max-width: 100%;overflow: auto;}#sk-container-id-2 input.sk-toggleable__control:checked~label.sk-toggleable__label-arrow:before {content: \"▾\";}#sk-container-id-2 div.sk-estimator input.sk-toggleable__control:checked~label.sk-toggleable__label {background-color: #d4ebff;}#sk-container-id-2 div.sk-label input.sk-toggleable__control:checked~label.sk-toggleable__label {background-color: #d4ebff;}#sk-container-id-2 input.sk-hidden--visually {border: 0;clip: rect(1px 1px 1px 1px);clip: rect(1px, 1px, 1px, 1px);height: 1px;margin: -1px;overflow: hidden;padding: 0;position: absolute;width: 1px;}#sk-container-id-2 div.sk-estimator {font-family: monospace;background-color: #f0f8ff;border: 1px dotted black;border-radius: 0.25em;box-sizing: border-box;margin-bottom: 0.5em;}#sk-container-id-2 div.sk-estimator:hover {background-color: #d4ebff;}#sk-container-id-2 div.sk-parallel-item::after {content: \"\";width: 100%;border-bottom: 1px solid gray;flex-grow: 1;}#sk-container-id-2 div.sk-label:hover label.sk-toggleable__label {background-color: #d4ebff;}#sk-container-id-2 div.sk-serial::before {content: \"\";position: absolute;border-left: 1px solid gray;box-sizing: border-box;top: 0;bottom: 0;left: 50%;z-index: 0;}#sk-container-id-2 div.sk-serial {display: flex;flex-direction: column;align-items: center;background-color: white;padding-right: 0.2em;padding-left: 0.2em;position: relative;}#sk-container-id-2 div.sk-item {position: relative;z-index: 1;}#sk-container-id-2 div.sk-parallel {display: flex;align-items: stretch;justify-content: center;background-color: white;position: relative;}#sk-container-id-2 div.sk-item::before, #sk-container-id-2 div.sk-parallel-item::before {content: \"\";position: absolute;border-left: 1px solid gray;box-sizing: border-box;top: 0;bottom: 0;left: 50%;z-index: -1;}#sk-container-id-2 div.sk-parallel-item {display: flex;flex-direction: column;z-index: 1;position: relative;background-color: white;}#sk-container-id-2 div.sk-parallel-item:first-child::after {align-self: flex-end;width: 50%;}#sk-container-id-2 div.sk-parallel-item:last-child::after {align-self: flex-start;width: 50%;}#sk-container-id-2 div.sk-parallel-item:only-child::after {width: 0;}#sk-container-id-2 div.sk-dashed-wrapped {border: 1px dashed gray;margin: 0 0.4em 0.5em 0.4em;box-sizing: border-box;padding-bottom: 0.4em;background-color: white;}#sk-container-id-2 div.sk-label label {font-family: monospace;font-weight: bold;display: inline-block;line-height: 1.2em;}#sk-container-id-2 div.sk-label-container {text-align: center;}#sk-container-id-2 div.sk-container {/* jupyter's `normalize.less` sets `[hidden] { display: none; }` but bootstrap.min.css set `[hidden] { display: none !important; }` so we also need the `!important` here to be able to override the default hidden behavior on the sphinx rendered scikit-learn.org. See: https://github.com/scikit-learn/scikit-learn/issues/21755 */display: inline-block !important;position: relative;}#sk-container-id-2 div.sk-text-repr-fallback {display: none;}</style><div id=\"sk-container-id-2\" class=\"sk-top-container\"><div class=\"sk-text-repr-fallback\"><pre>RandomizedSearchCV(cv=StratifiedKFold(n_splits=10, random_state=1, shuffle=True),\n",
              "                   estimator=XGBClassifier(base_score=None, booster=None,\n",
              "                                           callbacks=None,\n",
              "                                           colsample_bylevel=None,\n",
              "                                           colsample_bynode=None,\n",
              "                                           colsample_bytree=None, device=None,\n",
              "                                           early_stopping_rounds=None,\n",
              "                                           enable_categorical=False,\n",
              "                                           eval_metric=None, feature_types=None,\n",
              "                                           gamma=None, grow_policy=None,\n",
              "                                           importan...\n",
              "                                           multi_strategy=None,\n",
              "                                           n_estimators=None, n_jobs=None,\n",
              "                                           num_parallel_tree=None,\n",
              "                                           random_state=None, ...),\n",
              "                   n_iter=5,\n",
              "                   param_distributions={&#x27;max_depth&#x27;: &lt;scipy.stats._distn_infrastructure.rv_discrete_frozen object at 0x7d54f33e2bc0&gt;,\n",
              "                                        &#x27;n_estimators&#x27;: &lt;scipy.stats._distn_infrastructure.rv_discrete_frozen object at 0x7d54f33e24d0&gt;},\n",
              "                   random_state=1, scoring=&#x27;accuracy&#x27;, verbose=1)</pre><b>In a Jupyter environment, please rerun this cell to show the HTML representation or trust the notebook. <br />On GitHub, the HTML representation is unable to render, please try loading this page with nbviewer.org.</b></div><div class=\"sk-container\" hidden><div class=\"sk-item sk-dashed-wrapped\"><div class=\"sk-label-container\"><div class=\"sk-label sk-toggleable\"><input class=\"sk-toggleable__control sk-hidden--visually\" id=\"sk-estimator-id-4\" type=\"checkbox\" ><label for=\"sk-estimator-id-4\" class=\"sk-toggleable__label sk-toggleable__label-arrow\">RandomizedSearchCV</label><div class=\"sk-toggleable__content\"><pre>RandomizedSearchCV(cv=StratifiedKFold(n_splits=10, random_state=1, shuffle=True),\n",
              "                   estimator=XGBClassifier(base_score=None, booster=None,\n",
              "                                           callbacks=None,\n",
              "                                           colsample_bylevel=None,\n",
              "                                           colsample_bynode=None,\n",
              "                                           colsample_bytree=None, device=None,\n",
              "                                           early_stopping_rounds=None,\n",
              "                                           enable_categorical=False,\n",
              "                                           eval_metric=None, feature_types=None,\n",
              "                                           gamma=None, grow_policy=None,\n",
              "                                           importan...\n",
              "                                           multi_strategy=None,\n",
              "                                           n_estimators=None, n_jobs=None,\n",
              "                                           num_parallel_tree=None,\n",
              "                                           random_state=None, ...),\n",
              "                   n_iter=5,\n",
              "                   param_distributions={&#x27;max_depth&#x27;: &lt;scipy.stats._distn_infrastructure.rv_discrete_frozen object at 0x7d54f33e2bc0&gt;,\n",
              "                                        &#x27;n_estimators&#x27;: &lt;scipy.stats._distn_infrastructure.rv_discrete_frozen object at 0x7d54f33e24d0&gt;},\n",
              "                   random_state=1, scoring=&#x27;accuracy&#x27;, verbose=1)</pre></div></div></div><div class=\"sk-parallel\"><div class=\"sk-parallel-item\"><div class=\"sk-item\"><div class=\"sk-label-container\"><div class=\"sk-label sk-toggleable\"><input class=\"sk-toggleable__control sk-hidden--visually\" id=\"sk-estimator-id-5\" type=\"checkbox\" ><label for=\"sk-estimator-id-5\" class=\"sk-toggleable__label sk-toggleable__label-arrow\">estimator: XGBClassifier</label><div class=\"sk-toggleable__content\"><pre>XGBClassifier(base_score=None, booster=None, callbacks=None,\n",
              "              colsample_bylevel=None, colsample_bynode=None,\n",
              "              colsample_bytree=None, device=None, early_stopping_rounds=None,\n",
              "              enable_categorical=False, eval_metric=None, feature_types=None,\n",
              "              gamma=None, grow_policy=None, importance_type=None,\n",
              "              interaction_constraints=None, learning_rate=None, max_bin=None,\n",
              "              max_cat_threshold=None, max_cat_to_onehot=None,\n",
              "              max_delta_step=None, max_depth=None, max_leaves=None,\n",
              "              min_child_weight=None, missing=nan, monotone_constraints=None,\n",
              "              multi_strategy=None, n_estimators=None, n_jobs=None,\n",
              "              num_parallel_tree=None, random_state=None, ...)</pre></div></div></div><div class=\"sk-serial\"><div class=\"sk-item\"><div class=\"sk-estimator sk-toggleable\"><input class=\"sk-toggleable__control sk-hidden--visually\" id=\"sk-estimator-id-6\" type=\"checkbox\" ><label for=\"sk-estimator-id-6\" class=\"sk-toggleable__label sk-toggleable__label-arrow\">XGBClassifier</label><div class=\"sk-toggleable__content\"><pre>XGBClassifier(base_score=None, booster=None, callbacks=None,\n",
              "              colsample_bylevel=None, colsample_bynode=None,\n",
              "              colsample_bytree=None, device=None, early_stopping_rounds=None,\n",
              "              enable_categorical=False, eval_metric=None, feature_types=None,\n",
              "              gamma=None, grow_policy=None, importance_type=None,\n",
              "              interaction_constraints=None, learning_rate=None, max_bin=None,\n",
              "              max_cat_threshold=None, max_cat_to_onehot=None,\n",
              "              max_delta_step=None, max_depth=None, max_leaves=None,\n",
              "              min_child_weight=None, missing=nan, monotone_constraints=None,\n",
              "              multi_strategy=None, n_estimators=None, n_jobs=None,\n",
              "              num_parallel_tree=None, random_state=None, ...)</pre></div></div></div></div></div></div></div></div></div></div>"
            ]
          },
          "metadata": {},
          "execution_count": 35
        }
      ]
    },
    {
      "cell_type": "code",
      "source": [
        "print(\"Best Parameters: \", random_search.best_params_)\n",
        "print(\"Best Accuracy: \", random_search.best_score_)"
      ],
      "metadata": {
        "colab": {
          "base_uri": "https://localhost:8080/"
        },
        "id": "wUtuJ4OOjacV",
        "outputId": "61dc9178-dff7-4eec-d9a4-f0938e43d7b4"
      },
      "execution_count": null,
      "outputs": [
        {
          "output_type": "stream",
          "name": "stdout",
          "text": [
            "Best Parameters:  {'max_depth': 6, 'n_estimators': 62}\n",
            "Best Accuracy:  0.9980980683506686\n"
          ]
        }
      ]
    },
    {
      "cell_type": "code",
      "source": [
        "X_test_bow = bag_of_words.transform(X_test)"
      ],
      "metadata": {
        "id": "qFdlzx2Zjc03"
      },
      "execution_count": null,
      "outputs": []
    },
    {
      "cell_type": "code",
      "source": [
        "y_pred = random_search.predict(X_test_bow)\n",
        "\n",
        "accuracyscore = metrics.accuracy_score(y_test, y_pred)\n",
        "print(accuracyscore)\n",
        "print(classification_report(y_test, y_pred))"
      ],
      "metadata": {
        "colab": {
          "base_uri": "https://localhost:8080/"
        },
        "id": "EMR5gsJYjepo",
        "outputId": "9c316498-df7e-4d0f-9afa-7a83915c7cd0"
      },
      "execution_count": null,
      "outputs": [
        {
          "output_type": "stream",
          "name": "stdout",
          "text": [
            "0.9974146384951413\n",
            "              precision    recall  f1-score   support\n",
            "\n",
            "           0       1.00      1.00      1.00      5304\n",
            "           1       1.00      1.00      1.00      5913\n",
            "\n",
            "    accuracy                           1.00     11217\n",
            "   macro avg       1.00      1.00      1.00     11217\n",
            "weighted avg       1.00      1.00      1.00     11217\n",
            "\n"
          ]
        }
      ]
    },
    {
      "cell_type": "code",
      "source": [
        "print(accuracyscore)"
      ],
      "metadata": {
        "colab": {
          "base_uri": "https://localhost:8080/"
        },
        "id": "85oIjitumRO9",
        "outputId": "b201c716-9ea9-43bb-c94c-540cb09d5acf"
      },
      "execution_count": null,
      "outputs": [
        {
          "output_type": "stream",
          "name": "stdout",
          "text": [
            "0.9974146384951413\n"
          ]
        }
      ]
    },
    {
      "cell_type": "code",
      "source": [
        "import seaborn as sns\n",
        "import matplotlib.pyplot as plt\n",
        "\n",
        "\n",
        "conf_matrix = confusion_matrix(y_test, y_pred)\n",
        "\n",
        "# Print the confusion matrix\n",
        "print(\"Confusion Matrix:\")\n",
        "print(conf_matrix)\n",
        "\n",
        "# Create a heatmap\n",
        "sns.heatmap(conf_matrix, annot=True, fmt='d', cmap='Blues', annot_kws={\"size\": 16})\n",
        "\n",
        "# Set labels and title\n",
        "plt.xlabel('Predicted labels')\n",
        "plt.ylabel('True labels')\n",
        "plt.title('Confusion Matrix')\n",
        "\n",
        "# Display the plot\n",
        "plt.show()"
      ],
      "metadata": {
        "colab": {
          "base_uri": "https://localhost:8080/",
          "height": 524
        },
        "id": "GOgMuPjwnIRc",
        "outputId": "f4b0c734-ae55-4d77-9670-a6a4c0f1ebe2"
      },
      "execution_count": null,
      "outputs": [
        {
          "output_type": "stream",
          "name": "stdout",
          "text": [
            "Confusion Matrix:\n",
            "[[5288   16]\n",
            " [  13 5900]]\n"
          ]
        },
        {
          "output_type": "display_data",
          "data": {
            "text/plain": [
              "<Figure size 640x480 with 2 Axes>"
            ],
            "image/png": "[encoded data removed]"
          },
          "metadata": {}
        }
      ]
    },
    {
      "cell_type": "code",
      "source": [
        "from sklearn.metrics import roc_curve, auc\n",
        "\n",
        "#y_prob = xgb_model.predict_proba(X_test)[:, 1]\n",
        "y_pred = random_search.predict_proba(X_test_bow)[:, 1]\n",
        "\n",
        "# Assuming y_test is your true labels\n",
        "fpr, tpr, thresholds = roc_curve(y_test, y_pred)\n",
        "roc_auc = auc(fpr, tpr)"
      ],
      "metadata": {
        "id": "dVcr_DPNtAIT"
      },
      "execution_count": null,
      "outputs": []
    },
    {
      "cell_type": "code",
      "source": [
        "import matplotlib.pyplot as plt\n",
        "\n",
        "# Plot the ROC curve\n",
        "plt.figure(figsize=(8, 8))\n",
        "plt.plot(fpr, tpr, color='darkorange', lw=2, label='ROC curve (area = {:.2f})'.format(roc_auc))\n",
        "plt.plot([0, 1], [0, 1], color='navy', lw=2, linestyle='--')\n",
        "plt.xlabel('False Positive Rate')\n",
        "plt.ylabel('True Positive Rate')\n",
        "plt.title('Receiver Operating Characteristic (ROC) Curve')\n",
        "plt.legend(loc='lower right')\n",
        "plt.show()"
      ],
      "metadata": {
        "colab": {
          "base_uri": "https://localhost:8080/",
          "height": 718
        },
        "id": "Jim2tRnhtFCo",
        "outputId": "10e07b5c-f055-49b2-d613-ebffb0cc9868"
      },
      "execution_count": null,
      "outputs": [
        {
          "output_type": "display_data",
          "data": {
            "text/plain": [
              "<Figure size 800x800 with 1 Axes>"
            ],
            "image/png": "[encoded data removed]"
          },
          "metadata": {}
        }
      ]
    },
    {
      "cell_type": "markdown",
      "source": [
        "# **Support Vector Machine**"
      ],
      "metadata": {
        "id": "qjPc8X8_vaOB"
      }
    },
    {
      "cell_type": "code",
      "source": [
        "random_search = RandomizedSearchCV(estimator=svm_model, param_distributions=svm_param_distributions, scoring='accuracy', n_iter=5, cv=stratified_kfold, verbose=1, random_state=1)"
      ],
      "metadata": {
        "id": "6mFtGJEAvZgh"
      },
      "execution_count": null,
      "outputs": []
    },
    {
      "cell_type": "code",
      "source": [
        "random_search.fit(X_train_bow, y_train)"
      ],
      "metadata": {
        "colab": {
          "base_uri": "https://localhost:8080/",
          "height": 293
        },
        "id": "CbferHySvwKh",
        "outputId": "467a0146-3731-4d98-c1e3-ded9e08def2a"
      },
      "execution_count": null,
      "outputs": [
        {
          "metadata": {
            "tags": null
          },
          "name": "stdout",
          "output_type": "stream",
          "text": [
            "Fitting 10 folds for each of 5 candidates, totalling 50 fits\n"
          ]
        },
        {
          "output_type": "execute_result",
          "data": {
            "text/plain": [
              "RandomizedSearchCV(cv=StratifiedKFold(n_splits=10, random_state=1, shuffle=True),\n",
              "                   estimator=SVC(), n_iter=5,\n",
              "                   param_distributions={'C': <scipy.stats._distn_infrastructure.rv_continuous_frozen object at 0x7de27915ff70>,\n",
              "                                        'kernel': ['linear', 'rbf', 'sigmoid']},\n",
              "                   random_state=1, scoring='accuracy', verbose=1)"
            ],
            "text/html": [
              "<style>#sk-container-id-8 {color: black;background-color: white;}#sk-container-id-8 pre{padding: 0;}#sk-container-id-8 div.sk-toggleable {background-color: white;}#sk-container-id-8 label.sk-toggleable__label {cursor: pointer;display: block;width: 100%;margin-bottom: 0;padding: 0.3em;box-sizing: border-box;text-align: center;}#sk-container-id-8 label.sk-toggleable__label-arrow:before {content: \"▸\";float: left;margin-right: 0.25em;color: #696969;}#sk-container-id-8 label.sk-toggleable__label-arrow:hover:before {color: black;}#sk-container-id-8 div.sk-estimator:hover label.sk-toggleable__label-arrow:before {color: black;}#sk-container-id-8 div.sk-toggleable__content {max-height: 0;max-width: 0;overflow: hidden;text-align: left;background-color: #f0f8ff;}#sk-container-id-8 div.sk-toggleable__content pre {margin: 0.2em;color: black;border-radius: 0.25em;background-color: #f0f8ff;}#sk-container-id-8 input.sk-toggleable__control:checked~div.sk-toggleable__content {max-height: 200px;max-width: 100%;overflow: auto;}#sk-container-id-8 input.sk-toggleable__control:checked~label.sk-toggleable__label-arrow:before {content: \"▾\";}#sk-container-id-8 div.sk-estimator input.sk-toggleable__control:checked~label.sk-toggleable__label {background-color: #d4ebff;}#sk-container-id-8 div.sk-label input.sk-toggleable__control:checked~label.sk-toggleable__label {background-color: #d4ebff;}#sk-container-id-8 input.sk-hidden--visually {border: 0;clip: rect(1px 1px 1px 1px);clip: rect(1px, 1px, 1px, 1px);height: 1px;margin: -1px;overflow: hidden;padding: 0;position: absolute;width: 1px;}#sk-container-id-8 div.sk-estimator {font-family: monospace;background-color: #f0f8ff;border: 1px dotted black;border-radius: 0.25em;box-sizing: border-box;margin-bottom: 0.5em;}#sk-container-id-8 div.sk-estimator:hover {background-color: #d4ebff;}#sk-container-id-8 div.sk-parallel-item::after {content: \"\";width: 100%;border-bottom: 1px solid gray;flex-grow: 1;}#sk-container-id-8 div.sk-label:hover label.sk-toggleable__label {background-color: #d4ebff;}#sk-container-id-8 div.sk-serial::before {content: \"\";position: absolute;border-left: 1px solid gray;box-sizing: border-box;top: 0;bottom: 0;left: 50%;z-index: 0;}#sk-container-id-8 div.sk-serial {display: flex;flex-direction: column;align-items: center;background-color: white;padding-right: 0.2em;padding-left: 0.2em;position: relative;}#sk-container-id-8 div.sk-item {position: relative;z-index: 1;}#sk-container-id-8 div.sk-parallel {display: flex;align-items: stretch;justify-content: center;background-color: white;position: relative;}#sk-container-id-8 div.sk-item::before, #sk-container-id-8 div.sk-parallel-item::before {content: \"\";position: absolute;border-left: 1px solid gray;box-sizing: border-box;top: 0;bottom: 0;left: 50%;z-index: -1;}#sk-container-id-8 div.sk-parallel-item {display: flex;flex-direction: column;z-index: 1;position: relative;background-color: white;}#sk-container-id-8 div.sk-parallel-item:first-child::after {align-self: flex-end;width: 50%;}#sk-container-id-8 div.sk-parallel-item:last-child::after {align-self: flex-start;width: 50%;}#sk-container-id-8 div.sk-parallel-item:only-child::after {width: 0;}#sk-container-id-8 div.sk-dashed-wrapped {border: 1px dashed gray;margin: 0 0.4em 0.5em 0.4em;box-sizing: border-box;padding-bottom: 0.4em;background-color: white;}#sk-container-id-8 div.sk-label label {font-family: monospace;font-weight: bold;display: inline-block;line-height: 1.2em;}#sk-container-id-8 div.sk-label-container {text-align: center;}#sk-container-id-8 div.sk-container {/* jupyter's `normalize.less` sets `[hidden] { display: none; }` but bootstrap.min.css set `[hidden] { display: none !important; }` so we also need the `!important` here to be able to override the default hidden behavior on the sphinx rendered scikit-learn.org. See: https://github.com/scikit-learn/scikit-learn/issues/21755 */display: inline-block !important;position: relative;}#sk-container-id-8 div.sk-text-repr-fallback {display: none;}</style><div id=\"sk-container-id-8\" class=\"sk-top-container\"><div class=\"sk-text-repr-fallback\"><pre>RandomizedSearchCV(cv=StratifiedKFold(n_splits=10, random_state=1, shuffle=True),\n",
              "                   estimator=SVC(), n_iter=5,\n",
              "                   param_distributions={&#x27;C&#x27;: &lt;scipy.stats._distn_infrastructure.rv_continuous_frozen object at 0x7de27915ff70&gt;,\n",
              "                                        &#x27;kernel&#x27;: [&#x27;linear&#x27;, &#x27;rbf&#x27;, &#x27;sigmoid&#x27;]},\n",
              "                   random_state=1, scoring=&#x27;accuracy&#x27;, verbose=1)</pre><b>In a Jupyter environment, please rerun this cell to show the HTML representation or trust the notebook. <br />On GitHub, the HTML representation is unable to render, please try loading this page with nbviewer.org.</b></div><div class=\"sk-container\" hidden><div class=\"sk-item sk-dashed-wrapped\"><div class=\"sk-label-container\"><div class=\"sk-label sk-toggleable\"><input class=\"sk-toggleable__control sk-hidden--visually\" id=\"sk-estimator-id-22\" type=\"checkbox\" ><label for=\"sk-estimator-id-22\" class=\"sk-toggleable__label sk-toggleable__label-arrow\">RandomizedSearchCV</label><div class=\"sk-toggleable__content\"><pre>RandomizedSearchCV(cv=StratifiedKFold(n_splits=10, random_state=1, shuffle=True),\n",
              "                   estimator=SVC(), n_iter=5,\n",
              "                   param_distributions={&#x27;C&#x27;: &lt;scipy.stats._distn_infrastructure.rv_continuous_frozen object at 0x7de27915ff70&gt;,\n",
              "                                        &#x27;kernel&#x27;: [&#x27;linear&#x27;, &#x27;rbf&#x27;, &#x27;sigmoid&#x27;]},\n",
              "                   random_state=1, scoring=&#x27;accuracy&#x27;, verbose=1)</pre></div></div></div><div class=\"sk-parallel\"><div class=\"sk-parallel-item\"><div class=\"sk-item\"><div class=\"sk-label-container\"><div class=\"sk-label sk-toggleable\"><input class=\"sk-toggleable__control sk-hidden--visually\" id=\"sk-estimator-id-23\" type=\"checkbox\" ><label for=\"sk-estimator-id-23\" class=\"sk-toggleable__label sk-toggleable__label-arrow\">estimator: SVC</label><div class=\"sk-toggleable__content\"><pre>SVC()</pre></div></div></div><div class=\"sk-serial\"><div class=\"sk-item\"><div class=\"sk-estimator sk-toggleable\"><input class=\"sk-toggleable__control sk-hidden--visually\" id=\"sk-estimator-id-24\" type=\"checkbox\" ><label for=\"sk-estimator-id-24\" class=\"sk-toggleable__label sk-toggleable__label-arrow\">SVC</label><div class=\"sk-toggleable__content\"><pre>SVC()</pre></div></div></div></div></div></div></div></div></div></div>"
            ]
          },
          "metadata": {},
          "execution_count": 101
        }
      ]
    },
    {
      "cell_type": "code",
      "source": [
        "print(\"Best Parameters: \", random_search.best_params_)\n",
        "print(\"Best Accuracy: \", random_search.best_score_)"
      ],
      "metadata": {
        "colab": {
          "base_uri": "https://localhost:8080/"
        },
        "id": "WzckVlJ3vw1m",
        "outputId": "359a60f6-1d4d-4386-c06f-c2f0a0ba3e2e"
      },
      "execution_count": null,
      "outputs": [
        {
          "output_type": "stream",
          "name": "stdout",
          "text": [
            "Best Parameters:  {'C': 0.917022004702574, 'kernel': 'linear'}\n",
            "Best Accuracy:  0.9954531946508173\n"
          ]
        }
      ]
    },
    {
      "cell_type": "code",
      "source": [
        "X_test_bow = bag_of_words.transform(X_test)"
      ],
      "metadata": {
        "id": "tYrPxmlwv016"
      },
      "execution_count": null,
      "outputs": []
    },
    {
      "cell_type": "code",
      "source": [
        "y_pred = random_search.predict(X_test_bow)\n",
        "\n",
        "accuracyscore = metrics.accuracy_score(y_test, y_pred)\n",
        "print(accuracyscore)\n",
        "print(classification_report(y_test, y_pred))"
      ],
      "metadata": {
        "colab": {
          "base_uri": "https://localhost:8080/"
        },
        "id": "-ukju88Nv3Qb",
        "outputId": "6881c1df-aa1e-4141-c32f-9b062b1c2fdd"
      },
      "execution_count": null,
      "outputs": [
        {
          "output_type": "stream",
          "name": "stdout",
          "text": [
            "0.9965231345279486\n",
            "              precision    recall  f1-score   support\n",
            "\n",
            "           0       1.00      1.00      1.00      5278\n",
            "           1       1.00      1.00      1.00      5939\n",
            "\n",
            "    accuracy                           1.00     11217\n",
            "   macro avg       1.00      1.00      1.00     11217\n",
            "weighted avg       1.00      1.00      1.00     11217\n",
            "\n"
          ]
        }
      ]
    },
    {
      "cell_type": "code",
      "source": [
        "import seaborn as sns\n",
        "import matplotlib.pyplot as plt\n",
        "\n",
        "\n",
        "conf_matrix = confusion_matrix(y_test, y_pred)\n",
        "\n",
        "# Print the confusion matrix\n",
        "print(\"Confusion Matrix:\")\n",
        "print(conf_matrix)\n",
        "\n",
        "# Create a heatmap\n",
        "sns.heatmap(conf_matrix, annot=True, fmt='d', cmap='Blues', annot_kws={\"size\": 16})\n",
        "\n",
        "# Set labels and title\n",
        "plt.xlabel('Predicted labels')\n",
        "plt.ylabel('True labels')\n",
        "plt.title('Confusion Matrix')\n",
        "\n",
        "# Display the plot\n",
        "plt.show()"
      ],
      "metadata": {
        "colab": {
          "base_uri": "https://localhost:8080/",
          "height": 524
        },
        "id": "D8LgZ6uEgiyy",
        "outputId": "59abd0d9-134a-4d45-8771-4cb8a78dc72c"
      },
      "execution_count": null,
      "outputs": [
        {
          "output_type": "stream",
          "name": "stdout",
          "text": [
            "Confusion Matrix:\n",
            "[[5257   21]\n",
            " [  18 5921]]\n"
          ]
        },
        {
          "output_type": "display_data",
          "data": {
            "text/plain": [
              "<Figure size 640x480 with 2 Axes>"
            ],
            "image/png": "[encoded data removed]"
          },
          "metadata": {}
        }
      ]
    },
    {
      "cell_type": "code",
      "source": [
        "from sklearn.metrics import roc_curve, auc\n",
        "\n",
        "#y_prob = xgb_model.predict_proba(X_test)[:, 1]\n",
        "y_pred_svm = random_search.decision_function(X_test_bow)#[:, 1]\n",
        "\n",
        "# Assuming y_test is your true labels\n",
        "fpr, tpr, threshold = roc_curve(y_test, y_pred_svm)\n",
        "roc_auc = auc(fpr, tpr)"
      ],
      "metadata": {
        "id": "QG36TelngnBU"
      },
      "execution_count": null,
      "outputs": []
    },
    {
      "cell_type": "code",
      "source": [
        "import matplotlib.pyplot as plt\n",
        "\n",
        "# Plot the ROC curve\n",
        "plt.figure(figsize=(8, 8))\n",
        "plt.plot(fpr, tpr, color='darkorange', lw=2, label='ROC curve (area = {:.2f})'.format(roc_auc))\n",
        "plt.plot([0, 1], [0, 1], color='navy', lw=2, linestyle='--')\n",
        "plt.xlabel('False Positive Rate')\n",
        "plt.ylabel('True Positive Rate')\n",
        "plt.title('Receiver Operating Characteristic (ROC) Curve')\n",
        "plt.legend(loc='lower right')\n",
        "plt.show()"
      ],
      "metadata": {
        "colab": {
          "base_uri": "https://localhost:8080/",
          "height": 718
        },
        "id": "XHI54qzagsOD",
        "outputId": "8cb72eee-95e0-4408-fa42-f6899c7041d8"
      },
      "execution_count": null,
      "outputs": [
        {
          "output_type": "display_data",
          "data": {
            "text/plain": [
              "<Figure size 800x800 with 1 Axes>"
            ],
            "image/png": "[encoded data removed]"
          },
          "metadata": {}
        }
      ]
    }
  ]
}